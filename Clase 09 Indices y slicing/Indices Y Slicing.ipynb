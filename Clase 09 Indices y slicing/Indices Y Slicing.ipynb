{
 "cells": [
  {
   "cell_type": "markdown",
   "id": "4f9d3e47",
   "metadata": {},
   "source": [
    "# __3.1 Índices y  slicing__"
   ]
  },
  {
   "cell_type": "markdown",
   "id": "c6eb7a48",
   "metadata": {},
   "source": [
    "Los índices son números ordenados asociados a las variables que nos permiten identificar los elementos por su posición."
   ]
  },
  {
   "cell_type": "markdown",
   "id": "469fb0a0",
   "metadata": {},
   "source": [
    "__Por ejemplo, cada elemento de una cadena tiene su índice__\n"
   ]
  },
  {
   "cell_type": "code",
   "execution_count": 9,
   "id": "c87b288e",
   "metadata": {},
   "outputs": [],
   "source": [
    "texto= \"Esta-Cadena\""
   ]
  },
  {
   "cell_type": "markdown",
   "id": "b16fc19f",
   "metadata": {},
   "source": [
    "El primer elemento siempre tiene el índice 0 porque este número inicia la enumeración"
   ]
  },
  {
   "cell_type": "code",
   "execution_count": 10,
   "id": "6550f1eb",
   "metadata": {},
   "outputs": [
    {
     "name": "stdout",
     "output_type": "stream",
     "text": [
      "E s t a\n"
     ]
    }
   ],
   "source": [
    "print(texto[0], texto[1],texto[2],texto[3\n",
    "                                       ])"
   ]
  },
  {
   "cell_type": "markdown",
   "id": "160052f3",
   "metadata": {},
   "source": [
    "Para cada Elemento también existe un ídice inverso que realiza una numeración desde el último elemento hasta el primero, empezando la cuenta con -1"
   ]
  },
  {
   "cell_type": "code",
   "execution_count": 26,
   "id": "d136d28c",
   "metadata": {},
   "outputs": [
    {
     "name": "stdout",
     "output_type": "stream",
     "text": [
      "Esta-Cadena"
     ]
    }
   ],
   "source": [
    "for i in range(0,len(texto)):\n",
    "    print(texto[i],end=\"\")"
   ]
  },
  {
   "cell_type": "markdown",
   "id": "8c632ca4",
   "metadata": {},
   "source": [
    "## Slicing"
   ]
  },
  {
   "cell_type": "markdown",
   "id": "f32f08f0",
   "metadata": {},
   "source": [
    "La expresión slicing hace referencia a la operación por medio de la cual se extraen elementos de una secuencia, tal como una lista o una cadena de caracteres. Dependiendo del caso, los elementos podrían ser consecutivos o podrían estar separados dentro de la secuencia original."
   ]
  },
  {
   "cell_type": "markdown",
   "id": "d10c39b5",
   "metadata": {},
   "source": [
    "Para extraer más de un elemento podemos indicar la posición inicial y la posición final usando ':' como separador."
   ]
  },
  {
   "cell_type": "code",
   "execution_count": 43,
   "id": "d59d1abe",
   "metadata": {},
   "outputs": [
    {
     "name": "stdout",
     "output_type": "stream",
     "text": [
      "Esta-Cadena\n",
      "sta-Cadena\n"
     ]
    }
   ],
   "source": [
    "print(texto[0:11]) # 1er ejemplo\n",
    "print(texto[1:11]) #2do ejemplo"
   ]
  },
  {
   "cell_type": "markdown",
   "id": "da50c750",
   "metadata": {},
   "source": [
    "En el primer caso estamos extrayendo un slice de la cadena original que tiene sólo los caracteres desde la posición 0 hasta la 12 (excluida), mientras que en el segundo caso lo hacemos desde la posición 1 hasta la 12 (excluida). Es decir que, la posición inicial se incluye dentro del slice resultante, pero la posición final siempre queda por fuera."
   ]
  },
  {
   "cell_type": "code",
   "execution_count": 57,
   "id": "0ee4249e",
   "metadata": {},
   "outputs": [
    {
     "name": "stdout",
     "output_type": "stream",
     "text": [
      "Esta-Cadena\n",
      "Cadena\n",
      "Esta-Cadena\n"
     ]
    }
   ],
   "source": [
    "print(texto[:11])\n",
    "print(texto[5:])\n",
    "print(texto[None:11])"
   ]
  },
  {
   "cell_type": "markdown",
   "id": "7d4ca71f",
   "metadata": {},
   "source": [
    "## 1.2. Slicing intermedio: posiciones negativas\n",
    "\n",
    "Algo muy interesante en Python con respecto a los slices, es que las posiciones de inicio y de fin no necesariamente tienen que ser números positivos: si se usan números negativos, Python asume que se están referenciando las posiciones numeradas desde la última hasta la primera, empezando con -1. Esto se presenta claramente en la figura 4.1, en la que hemos numerado las posiciones:\n",
    "\n",
    "![Texto alternativo de la imagen](https://i1.faceprep.in/Companies-1/string-slicing-in-python.png)\n"
   ]
  },
  {
   "cell_type": "code",
   "execution_count": 63,
   "id": "3b94679e",
   "metadata": {},
   "outputs": [
    {
     "name": "stdout",
     "output_type": "stream",
     "text": [
      "\n",
      " E 0\n",
      " s -1\n",
      " t -2\n",
      " a -3\n",
      " - -4\n",
      " C -5\n",
      " a -6\n",
      " d -7\n",
      " e -8\n",
      " n -9\n",
      " a -10"
     ]
    }
   ],
   "source": [
    "for i in range(0,len(texto)):\n",
    "    print(\"\\n\", texto[i],-i,end=\"\")"
   ]
  },
  {
   "cell_type": "markdown",
   "id": "49631c6a",
   "metadata": {},
   "source": [
    "## __1.3. Slicing avanzado: cambiando el paso__\n",
    "Estudiaremos ahora el tercer parámetro disponible para describir un slice en Python, el cual también se separa usando el caracter ':'. Este tercer parámetro, que tiene como valor por defecto 1, indica cómo se deben recorrer las posiciones desde el inicio hasta el fin. Así, cuando su valor es 1 con cada paso se va a sumar 1 a la posición actual, mientras que cuando el valor es -2 con cada paso se resta 2 a la posición actual."
   ]
  },
  {
   "cell_type": "code",
   "execution_count": 74,
   "id": "d787805b",
   "metadata": {},
   "outputs": [
    {
     "name": "stdout",
     "output_type": "stream",
     "text": [
      "anedaC-atsE\n"
     ]
    }
   ],
   "source": [
    "print(texto[::-1])\n",
    "           "
   ]
  },
  {
   "cell_type": "markdown",
   "id": "557434f3",
   "metadata": {},
   "source": [
    "Puedes encontrar más información sobre slicing en Python en [esta página](https://cupi2-ip.github.io/IPBook/nivel3/seccion3-4.html).\n"
   ]
  }
 ],
 "metadata": {
  "kernelspec": {
   "display_name": "Python 3 (ipykernel)",
   "language": "python",
   "name": "python3"
  },
  "language_info": {
   "codemirror_mode": {
    "name": "ipython",
    "version": 3
   },
   "file_extension": ".py",
   "mimetype": "text/x-python",
   "name": "python",
   "nbconvert_exporter": "python",
   "pygments_lexer": "ipython3",
   "version": "3.10.9"
  },
  "nbTranslate": {
   "displayLangs": [
    "*"
   ],
   "hotkey": "alt-t",
   "langInMainMenu": true,
   "sourceLang": "en",
   "targetLang": "fr",
   "useGoogleTranslate": true
  },
  "toc": {
   "base_numbering": 1,
   "nav_menu": {},
   "number_sections": true,
   "sideBar": true,
   "skip_h1_title": false,
   "title_cell": "Table of Contents",
   "title_sidebar": "Contents",
   "toc_cell": false,
   "toc_position": {},
   "toc_section_display": true,
   "toc_window_display": false
  },
  "varInspector": {
   "cols": {
    "lenName": 16,
    "lenType": 16,
    "lenVar": 40
   },
   "kernels_config": {
    "python": {
     "delete_cmd_postfix": "",
     "delete_cmd_prefix": "del ",
     "library": "var_list.py",
     "varRefreshCmd": "print(var_dic_list())"
    },
    "r": {
     "delete_cmd_postfix": ") ",
     "delete_cmd_prefix": "rm(",
     "library": "var_list.r",
     "varRefreshCmd": "cat(var_dic_list()) "
    }
   },
   "types_to_exclude": [
    "module",
    "function",
    "builtin_function_or_method",
    "instance",
    "_Feature"
   ],
   "window_display": false
  }
 },
 "nbformat": 4,
 "nbformat_minor": 5
}
