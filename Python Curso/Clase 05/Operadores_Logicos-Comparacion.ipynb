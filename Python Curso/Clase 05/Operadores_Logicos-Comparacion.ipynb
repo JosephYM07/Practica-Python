{
 "cells": [
  {
   "cell_type": "markdown",
   "metadata": {},
   "source": [
    "## __2.7 Operadores lógicos__"
   ]
  },
  {
   "cell_type": "markdown",
   "metadata": {},
   "source": [
    "Los operadores lógicos o logical operators nos permiten trabajar con valores de tipo booleano. Un valor booleano o bool es un tipo que solo puede tomar valores True o False. Por lo tanto, estos operadores nos permiten realizar diferentes operaciones con estos tipos, y su resultado será otro booleano. Por ejemplo, True and True usa el operador and, y su resultado será True. A continuación lo explicaremos mas en detalle."
   ]
  },
  {
   "cell_type": "markdown",
   "metadata": {},
   "source": [
    "| Operador | Nombre | Ejemplo |\n",
    "| --- | --- | --- |\n",
    "| and | Devuelve True si ambos elementos son True | True and True = True |\n",
    "| or | Devuelve True si al menos un elemento es True | True or False = True |\n",
    "| not | Devuelve el contrario, True si es Falso y viceversa | not True = False |"
   ]
  },
  {
   "cell_type": "markdown",
   "metadata": {},
   "source": [
    "### __Operador and__\n",
    "El operador and evalúa si el valor a la izquierda y el de la derecha son True, y en el caso de ser cierto, devuelve True. Si uno de los dos valores es False, el resultado será False. Es realmente un operador muy lógico e intuitivo que incluso usamos en la vida real. Si hace sol y es fin de semana, iré a la playa. Si ambas condiciones se cumplen, es decir que la variable haceSol=True y la variable finDeSemana=True, iré a la playa, o visto de otra forma irALaPlaya=(haceSol and finDeSemana)."
   ]
  },
  {
   "cell_type": "code",
   "execution_count": 1,
   "metadata": {},
   "outputs": [
    {
     "name": "stdout",
     "output_type": "stream",
     "text": [
      "True\n",
      "False\n",
      "False\n",
      "False\n"
     ]
    }
   ],
   "source": [
    "print(True and True)   # True\n",
    "print(True and False)  # False\n",
    "print(False and True)  # False\n",
    "print(False and False) # False"
   ]
  },
  {
   "cell_type": "markdown",
   "metadata": {},
   "source": [
    "### __Operador or__\n",
    "El operador or devuelve True cuando al menos uno de los elementos es igual a True. Es decir, evalúa si el valor a la izquierda o el de la derecha son True."
   ]
  },
  {
   "cell_type": "code",
   "execution_count": 2,
   "metadata": {},
   "outputs": [
    {
     "name": "stdout",
     "output_type": "stream",
     "text": [
      "True\n",
      "True\n",
      "True\n",
      "False\n"
     ]
    }
   ],
   "source": [
    "print(True or True)   # True\n",
    "print(True or False)  # True\n",
    "print(False or True)  # True\n",
    "print(False or False) # False"
   ]
  },
  {
   "cell_type": "markdown",
   "metadata": {},
   "source": [
    "__Es importante notar que varios operadores pueden ser usados conjuntamente, y salvo que existan paréntesis que indiquen una cierta prioridad, el primer operador que se evaluará será el and. En el ejemplo que se muestra a continuación, podemos ver que tenemos dos operadores and. Para calcular el resultado final, tenemos que empezar por el and calculando el resultado en grupos de dos y arrastrando el resultado hacia el siguiente grupo. El resultado del primer grupo sería True ya que estamos evaluando True and True. Después, nos guardamos ese True y vamos a por el siguiente y último elemento, que es False. Por lo tanto hacemos True and False por lo que el resultado final es False__"
   ]
  },
  {
   "cell_type": "code",
   "execution_count": 3,
   "metadata": {},
   "outputs": [
    {
     "name": "stdout",
     "output_type": "stream",
     "text": [
      "True and True and False\n",
      "|-----------|\n",
      "      True  and  False\n",
      "     |------------------|\n",
      "Respuesta False\n"
     ]
    }
   ],
   "source": [
    "print(\"True and True and False\")\n",
    "print(\"|-----------|\")     \n",
    "print(\"      True  and  False\")\n",
    "print(\"     |------------------|\")         \n",
    "print(\"Respuesta\"+\" \"+ str(True and True and False))"
   ]
  },
  {
   "cell_type": "markdown",
   "metadata": {},
   "source": [
    "También podemos mezclar los operadores. En el siguiente ejemplo empezamos por False and True que es False, después False or True que es True y por último True or False que es True. Es decir, el resultado final de toda esa expresión es True."
   ]
  },
  {
   "cell_type": "code",
   "execution_count": 4,
   "metadata": {},
   "outputs": [
    {
     "name": "stdout",
     "output_type": "stream",
     "text": [
      "False and True or True or False\n",
      "     False and True = False\n",
      "               Fase or True = True\n",
      "                       True or False = True\n",
      "Respuesta True\n"
     ]
    }
   ],
   "source": [
    "print(\"False and True or True or False\")\n",
    "print(\"     False and True = False\")\n",
    "print(\"               Fase or True = True\")              \n",
    "print(\"                       True or False = True\")\n",
    "print(\"Respuesta\"+\" \"+str(False and True or True or False))"
   ]
  },
  {
   "cell_type": "markdown",
   "metadata": {},
   "source": [
    "### __Operador not__\n",
    "Y por último tenemos el operador not, que simplemente invierte True por False y False por True. También puedes usar varios not juntos y simplemente se irán aplicando uno tras otro. La verdad que es algo difícil de ver en la realidad, pero simplemente puedes contar el número de not y si es par el valor se quedará igual. Si por lo contrario es impar, el valor se invertirá."
   ]
  },
  {
   "cell_type": "code",
   "execution_count": 5,
   "metadata": {},
   "outputs": [
    {
     "name": "stdout",
     "output_type": "stream",
     "text": [
      "False\n",
      "True\n",
      "True\n"
     ]
    }
   ],
   "source": [
    "print(not True)  # False\n",
    "print(not False) # True\n",
    "print(not not not not True) # True"
   ]
  },
  {
   "cell_type": "markdown",
   "metadata": {},
   "source": [
    "Dado que estamos tratando con booleanos, hemos considerado que usar True y False es lo mejor y más claro, pero es totalmente válido emplear 1 y 0 respectivamente para representar ambos estados. Y por supuesto los resultados no varían"
   ]
  },
  {
   "cell_type": "code",
   "execution_count": 6,
   "metadata": {},
   "outputs": [
    {
     "name": "stdout",
     "output_type": "stream",
     "text": [
      "True\n",
      "False\n"
     ]
    }
   ],
   "source": [
    "print(not 0) # True\n",
    "print(not 1) # False"
   ]
  },
  {
   "cell_type": "markdown",
   "metadata": {},
   "source": [
    "## __Operadores de comparación__"
   ]
  },
  {
   "cell_type": "markdown",
   "metadata": {},
   "source": [
    "Los operadores relacionales, o también llamados comparison operators nos permiten saber la relación existente entre dos variables. Se usan para saber si por ejemplo un número es mayor o menor que otro. Dado que estos operadores indican si se cumple o no una operación, el valor que devuelven es True o False. Veamos un ejemplo con x=2 e y=3"
   ]
  },
  {
   "cell_type": "markdown",
   "metadata": {},
   "source": [
    "| Operador | Nombre | Ejemplo |\n",
    "| --- | --- | --- |\n",
    "| == | Igual | x == y = False |\n",
    "| != | Distinto | x != y = True |\n",
    "| > | Mayor | x > y = False |\n",
    "| &lt | Menor | x &lt y = True |\n",
    "| >= | Mayor o igual | x >= y = False |\n",
    "| &lt= | Menor o igual | x &lt y = True |"
   ]
  },
  {
   "cell_type": "code",
   "execution_count": 7,
   "metadata": {},
   "outputs": [
    {
     "name": "stdout",
     "output_type": "stream",
     "text": [
      "Operadores Relacionales\n",
      "x==y = False\n",
      "x!=y = True\n",
      "x>y  = False\n",
      "x<y  = True\n",
      "x>=y = False\n",
      "x<=y = True\n"
     ]
    }
   ],
   "source": [
    "x=2; y=3\n",
    "print(\"Operadores Relacionales\")\n",
    "print(\"x==y =\", x==y) # False\n",
    "print(\"x!=y =\", x!=y) # True\n",
    "print(\"x>y  =\", x>y)  # False\n",
    "print(\"x<y  =\", x<y)  # True\n",
    "print(\"x>=y =\", x>=y) # False\n",
    "print(\"x<=y =\", x<=y) # True"
   ]
  },
  {
   "cell_type": "markdown",
   "metadata": {},
   "source": [
    "### __Operador ==__\n",
    "El operador == permite comparar si las variables introducidas a su izquierda y derecha son iguales. Muy importante no confundir con =, que es el operador de asignación."
   ]
  },
  {
   "cell_type": "code",
   "execution_count": 8,
   "metadata": {},
   "outputs": [
    {
     "name": "stdout",
     "output_type": "stream",
     "text": [
      "True\n",
      "False\n",
      "True\n",
      "True\n",
      "True\n",
      "False\n",
      "False\n",
      "True\n"
     ]
    }
   ],
   "source": [
    "print(4==4)          # True\n",
    "print(4==5)          # False\n",
    "print(4==4.0)        # True\n",
    "print(0==False)      # True\n",
    "print(\"asd\"==\"asd\")  # True\n",
    "print(\"asd\"==\"asdf\") # False\n",
    "print(2==\"2\")        # False\n",
    "print([1, 2, 3] == [1, 2, 3]) # True"
   ]
  },
  {
   "cell_type": "markdown",
   "metadata": {},
   "source": [
    "### __Operador !=__\n",
    "El operador != devuelve True si los elementos a comparar son iguales y False si estos son distintos. De hecho, una vez definido el operador ==, no sería necesario ni explicar != ya que hace exactamente lo contrario. Definido primero, definido el segundo. Es decir, si probamos con los mismos ejemplo que el apartado anterior, veremos como el resultado es el contrario, es decir False donde era True y viceversa."
   ]
  },
  {
   "cell_type": "code",
   "execution_count": 9,
   "metadata": {},
   "outputs": [
    {
     "name": "stdout",
     "output_type": "stream",
     "text": [
      "False\n",
      "True\n",
      "False\n",
      "False\n",
      "False\n",
      "True\n",
      "True\n",
      "False\n"
     ]
    }
   ],
   "source": [
    "print(4!=4)          # False\n",
    "print(4!=5)          # True\n",
    "print(4!=4.0)        # False\n",
    "print(0!=False)      # False\n",
    "print(\"asd\"!=\"asd\")  # False\n",
    "print(\"asd\"!=\"asdf\") # True\n",
    "print(2!=\"2\")        # True\n",
    "print([1, 2, 3] != [1, 2, 3]) # False"
   ]
  },
  {
   "cell_type": "markdown",
   "metadata": {},
   "source": [
    "### __Operador >__\n",
    "El operador > devuelve True si el primer valor es mayor que el segundo y False de lo contrario."
   ]
  },
  {
   "cell_type": "code",
   "execution_count": 10,
   "metadata": {},
   "outputs": [
    {
     "name": "stdout",
     "output_type": "stream",
     "text": [
      "True\n",
      "False\n"
     ]
    }
   ],
   "source": [
    "print(5>3) # True\n",
    "print(5>5) # False"
   ]
  },
  {
   "cell_type": "markdown",
   "metadata": {},
   "source": [
    "Algo bastante curioso, es como Python trata al tipo booleano. Por ejemplo, podemos ver como True es igual a 1, por lo que podemos comprar el tipo True como si de un número se tratase."
   ]
  },
  {
   "cell_type": "code",
   "execution_count": 11,
   "metadata": {},
   "outputs": [
    {
     "name": "stdout",
     "output_type": "stream",
     "text": [
      "True\n",
      "True\n"
     ]
    }
   ],
   "source": [
    "print(True==1)     # True\n",
    "print(True>0.999)  # True"
   ]
  },
  {
   "cell_type": "markdown",
   "metadata": {},
   "source": [
    "### __Operador <__\n",
    "El operador < devuelve True si el primer elemento es mayor que el segundo. Es totalmente válido aplicar operadores relacionales como < sobre cadenas de texto, pero el comportamiento es un tanto difícil de ver a simple vista. Por ejemplo abc es menor que abd y A es menor que a"
   ]
  },
  {
   "cell_type": "code",
   "execution_count": 12,
   "metadata": {},
   "outputs": [
    {
     "name": "stdout",
     "output_type": "stream",
     "text": [
      "True\n",
      "True\n"
     ]
    }
   ],
   "source": [
    "print(\"abc\" < \"abd\") # True\n",
    "print(\"A\"<\"a\")       # True"
   ]
  },
  {
   "cell_type": "markdown",
   "metadata": {},
   "source": [
    "Para el caso de A y a la explicación es muy sencilla, ya que Python lo que en realidad está comparando es el valor entero __Unicode__ que representa tal carácter. La función ord() nos da ese valor. Por lo tanto cuando hacemos \"A\"<\"a\" lo que en realidad hacemos es comprar dos números."
   ]
  },
  {
   "cell_type": "code",
   "execution_count": 13,
   "metadata": {},
   "outputs": [
    {
     "name": "stdout",
     "output_type": "stream",
     "text": [
      "65\n",
      "97\n"
     ]
    }
   ],
   "source": [
    "print(ord('A')) # 65\n",
    "print(ord('a')) # 97"
   ]
  },
  {
   "cell_type": "markdown",
   "metadata": {},
   "source": [
    "### __Operador >=__\n",
    "Similar a los anteriores, >= permite comparar si el primer elemento es mayor o igual que es segundo, devolviendo True en el caso de ser cierto."
   ]
  },
  {
   "cell_type": "code",
   "execution_count": 14,
   "metadata": {},
   "outputs": [
    {
     "name": "stdout",
     "output_type": "stream",
     "text": [
      "True\n",
      "False\n"
     ]
    }
   ],
   "source": [
    "print(3>=3)           # True\n",
    "print([3,4] >= [3,5]) # False"
   ]
  },
  {
   "cell_type": "markdown",
   "metadata": {},
   "source": [
    "### __Operador <=__\n",
    "De la misma manera, <= devuelve True si el primer elemento es menor o igual que el segundo. Nos podemos encontrar con cosas interesantes debido a la precisión numérica existente al representar valores, como el siguiente ejemplo."
   ]
  },
  {
   "cell_type": "code",
   "execution_count": 15,
   "metadata": {},
   "outputs": [
    {
     "name": "stdout",
     "output_type": "stream",
     "text": [
      "True\n"
     ]
    }
   ],
   "source": [
    "print(3<=2.99999999999999999)"
   ]
  },
  {
   "cell_type": "markdown",
   "metadata": {},
   "source": []
  }
 ],
 "metadata": {
  "kernelspec": {
   "display_name": "Python 3 (ipykernel)",
   "language": "python",
   "name": "python3"
  },
  "language_info": {
   "codemirror_mode": {
    "name": "ipython",
    "version": 3
   },
   "file_extension": ".py",
   "mimetype": "text/x-python",
   "name": "python",
   "nbconvert_exporter": "python",
   "pygments_lexer": "ipython3",
   "version": "3.9.13"
  }
 },
 "nbformat": 4,
 "nbformat_minor": 2
}
