{
 "cells": [
  {
   "cell_type": "markdown",
   "id": "d91ea061",
   "metadata": {},
   "source": [
    "# __2.10 Ejercicios__"
   ]
  },
  {
   "cell_type": "markdown",
   "id": "f85b9200",
   "metadata": {},
   "source": [
    "1) Define una variable edad y asignar un valor entero\n",
    "\n",
    "    - Muestra su valor en pantalla.\n",
    "    - Define otra  variable edad_cadena que contenga el valor de edad como una cadena de caracteres.\n",
    "    - Comprueba el tipo de la nueva variable.\n",
    "    - Utiliza la variable edad que haz definido preiviamente y calcula la edad que tendria esa persona en el año de 2035"
   ]
  },
  {
   "cell_type": "code",
   "execution_count": 34,
   "id": "ddee533c",
   "metadata": {
    "scrolled": true
   },
   "outputs": [
    {
     "name": "stdout",
     "output_type": "stream",
     "text": [
      "23\n"
     ]
    }
   ],
   "source": [
    "edad=23\n",
    "print(edad)"
   ]
  },
  {
   "cell_type": "code",
   "execution_count": 27,
   "id": "1df8867d",
   "metadata": {},
   "outputs": [
    {
     "name": "stdout",
     "output_type": "stream",
     "text": [
      "23\n"
     ]
    }
   ],
   "source": [
    "edad_cadena=(str(edad))\n",
    "print(edad_cadena)"
   ]
  },
  {
   "cell_type": "code",
   "execution_count": 28,
   "id": "d5926a50",
   "metadata": {},
   "outputs": [
    {
     "name": "stdout",
     "output_type": "stream",
     "text": [
      "<class 'str'>\n"
     ]
    }
   ],
   "source": [
    "print(type(edad_cadena))"
   ]
  },
  {
   "cell_type": "code",
   "execution_count": 29,
   "id": "2660d437",
   "metadata": {},
   "outputs": [
    {
     "name": "stdout",
     "output_type": "stream",
     "text": [
      "35\n"
     ]
    }
   ],
   "source": [
    "nueva_edad=((2035-2023)+edad)\n",
    "print(nueva_edad)"
   ]
  },
  {
   "cell_type": "markdown",
   "id": "d748476d",
   "metadata": {},
   "source": [
    "2) Al realizar una consulta en un registro hemos recibido unso valores corruptos. al parecer entregar el nombre y apellido del alumno al revés. ¿Qué puede hacer para obtener el siguiente mensaje por pantalla"
   ]
  },
  {
   "cell_type": "code",
   "execution_count": 32,
   "id": "fa60c020",
   "metadata": {},
   "outputs": [],
   "source": [
    "cadena_texto=\"01 ed aton al odacas ah zepéY hpesoJ\""
   ]
  },
  {
   "cell_type": "code",
   "execution_count": 33,
   "id": "9e34ed20",
   "metadata": {},
   "outputs": [
    {
     "name": "stdout",
     "output_type": "stream",
     "text": [
      "Joseph Yépez ha sacado la nota de 10\n"
     ]
    }
   ],
   "source": [
    "cadena_invertida=cadena_texto[::-1]\n",
    "print(cadena_invertida)"
   ]
  },
  {
   "cell_type": "markdown",
   "id": "567a3244",
   "metadata": {},
   "source": [
    "3) Utilizando operadores lógicos determina si una dcadena de texto introducida por el usuaior tiene una longitud mayor o igual a 3 y menor igual a 12 (Hasta mostrar true o false) "
   ]
  },
  {
   "cell_type": "code",
   "execution_count": 67,
   "id": "a4074bf3",
   "metadata": {},
   "outputs": [
    {
     "name": "stdout",
     "output_type": "stream",
     "text": [
      "Escribe el texto a comparar: Hola mundo \n",
      "La longitud de su texto es mayor o igual que 3, pero menor o giual que 12? \n",
      "Respuesta: True\n"
     ]
    }
   ],
   "source": [
    "cadena=input('Escribe el texto a comparar: ')\n",
    "print('La longitud de su texto es mayor o igual que 3, pero menor o giual que 12?','\\nRespuesta:',len(cadena)>=3 and len(cadena)<=12)"
   ]
  },
  {
   "cell_type": "markdown",
   "id": "ce476561",
   "metadata": {},
   "source": [
    "4) Realiza un programa que lea 2 números por enteros teclado y determine los siguientes aspectos (es suficiente con mostrar true o false):\n",
    "\n",
    "    - Si los dos numeros son iguales\n",
    "    - Si los dos numeros son diferentes\n",
    "    - Si el primero es mayor que el segundo\n",
    "    - Si el segundo es mayor o igual que el primero"
   ]
  },
  {
   "cell_type": "code",
   "execution_count": 68,
   "id": "269e8f17",
   "metadata": {},
   "outputs": [
    {
     "name": "stdout",
     "output_type": "stream",
     "text": [
      "Ingrese el # 01: 5\n",
      "Ingrese el # 02: 8\n",
      "Los dos numeros son iguales:  False\n",
      "Los dos numeros son diferentes:  True\n",
      "El primero es mayor el segundo (5 > 8) : False\n",
      "El segundo es mayor igual que el (5>= 8):  True\n"
     ]
    }
   ],
   "source": [
    "n1=input(\"Ingrese el # 01: \")\n",
    "n2=input(\"Ingrese el # 02: \")\n",
    "print(\"Los dos numeros son iguales: \", n1==n2)\n",
    "print(\"Los dos numeros son diferentes: \", n1!=n2)\n",
    "print(f\"El primero es mayor el segundo ({n1} > {n2}) :\", n1>n2)\n",
    "print(f\"El segundo es mayor igual que el ({n1}>= {n2}): \", n2>=n1)"
   ]
  }
 ],
 "metadata": {
  "kernelspec": {
   "display_name": "Python 3 (ipykernel)",
   "language": "python",
   "name": "python3"
  },
  "language_info": {
   "codemirror_mode": {
    "name": "ipython",
    "version": 3
   },
   "file_extension": ".py",
   "mimetype": "text/x-python",
   "name": "python",
   "nbconvert_exporter": "python",
   "pygments_lexer": "ipython3",
   "version": "3.9.13"
  },
  "nbTranslate": {
   "displayLangs": [
    "*"
   ],
   "hotkey": "alt-t",
   "langInMainMenu": true,
   "sourceLang": "en",
   "targetLang": "fr",
   "useGoogleTranslate": true
  },
  "toc": {
   "base_numbering": 1,
   "nav_menu": {
    "height": "38.9896px",
    "width": "228.906px"
   },
   "number_sections": true,
   "sideBar": true,
   "skip_h1_title": false,
   "title_cell": "Table of Contents",
   "title_sidebar": "Contents",
   "toc_cell": false,
   "toc_position": {
    "height": "calc(100% - 180px)",
    "left": "10px",
    "top": "150px",
    "width": "165px"
   },
   "toc_section_display": true,
   "toc_window_display": false
  },
  "varInspector": {
   "cols": {
    "lenName": 16,
    "lenType": 16,
    "lenVar": 40
   },
   "kernels_config": {
    "python": {
     "delete_cmd_postfix": "",
     "delete_cmd_prefix": "del ",
     "library": "var_list.py",
     "varRefreshCmd": "print(var_dic_list())"
    },
    "r": {
     "delete_cmd_postfix": ") ",
     "delete_cmd_prefix": "rm(",
     "library": "var_list.r",
     "varRefreshCmd": "cat(var_dic_list()) "
    }
   },
   "types_to_exclude": [
    "module",
    "function",
    "builtin_function_or_method",
    "instance",
    "_Feature"
   ],
   "window_display": false
  }
 },
 "nbformat": 4,
 "nbformat_minor": 5
}
