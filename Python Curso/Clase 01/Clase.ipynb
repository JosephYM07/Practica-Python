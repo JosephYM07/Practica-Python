{
 "cells": [
  {
   "attachments": {},
   "cell_type": "markdown",
   "metadata": {},
   "source": [
    "# `**Variables**`\n",
    "Python es un lenguaje de tipado dinámico, y no necesita que se declaren el tipo de unaa variable. El nombre de cada variable debe cumplir.\n",
    "\n",
    "- -El nombre de la variable debe empezar con una letra (a-z o A-Z) o un guión bajo (_).\n",
    "- -El resto del nombre de la variable puede consistir en letras, números (0-9) y guiones bajos (_).\n",
    "- -Python distingue entre mayúsculas y minúsculas, por lo que \"miVariable\" y \"mivariable\" son nombres de variables diferentes.\n",
    "- Los nombres de variables no pueden ser iguales a palabras reservadas en Python, como \"if\", \"else\" o \"while\", ya que estas palabras tienen un significado especial en el lenguaje y se utilizan para funciones específicas.\n",
    "\n",
    "> `Es importante seguir estas reglas al nombrar variables en Python para evitar errores de sintaxis y mantener el código legible y fácil de entender.`"
   ]
  },
  {
   "cell_type": "code",
   "execution_count": 30,
   "metadata": {},
   "outputs": [],
   "source": [
    "x=30\n",
    "nombre='Andre Ivan'"
   ]
  },
  {
   "cell_type": "code",
   "execution_count": 31,
   "metadata": {},
   "outputs": [
    {
     "data": {
      "text/plain": [
       "30"
      ]
     },
     "execution_count": 31,
     "metadata": {},
     "output_type": "execute_result"
    }
   ],
   "source": [
    "x\n"
   ]
  },
  {
   "cell_type": "code",
   "execution_count": 32,
   "metadata": {},
   "outputs": [
    {
     "data": {
      "text/plain": [
       "'Andre Ivan'"
      ]
     },
     "execution_count": 32,
     "metadata": {},
     "output_type": "execute_result"
    }
   ],
   "source": [
    "nombre"
   ]
  },
  {
   "attachments": {},
   "cell_type": "markdown",
   "metadata": {},
   "source": [
    "`En python los tipos primitivos son: números, cadenas de caracteres(string), booleanos,tuplas,listas, y diccionarios.`"
   ]
  },
  {
   "attachments": {},
   "cell_type": "markdown",
   "metadata": {},
   "source": [
    "# `MÉTODOS` \n",
    "\n",
    "> Son funciones de clase, esto quiere decir que cada tipo de variable incluuye unas funciones asociadas a ella desde su definicion"
   ]
  },
  {
   "cell_type": "code",
   "execution_count": 33,
   "metadata": {},
   "outputs": [
    {
     "data": {
      "text/plain": [
       "40"
      ]
     },
     "execution_count": 33,
     "metadata": {},
     "output_type": "execute_result"
    }
   ],
   "source": [
    "x.__add__(10)"
   ]
  },
  {
   "attachments": {},
   "cell_type": "markdown",
   "metadata": {},
   "source": [
    "> El método **`__add__()`**\n",
    "Se utiliza en Python para sobrecargar el operador de suma (+) en una clase personalizada. Cuando e llama al operador de suma (+) en una instancia de la clase, Python busca el método **`__add__()`**\n",
    "en la definición de la clase para determinar cómo manejar la operación."
   ]
  },
  {
   "cell_type": "code",
   "execution_count": 34,
   "metadata": {},
   "outputs": [
    {
     "name": "stdout",
     "output_type": "stream",
     "text": [
      "15\n"
     ]
    }
   ],
   "source": [
    "class MiClase:\n",
    "    def __init__(self, x):\n",
    "        self.x = x\n",
    "\n",
    "    def __add__(self, y):\n",
    "        return self.x + y\n",
    "\n",
    "x = MiClase(5)\n",
    "resultado = x.__add__(10)\n",
    "print(resultado)  # Output: 15"
   ]
  },
  {
   "attachments": {},
   "cell_type": "markdown",
   "metadata": {},
   "source": [
    "> En este ejemplo, MiClase:\n",
    "\n",
    " es una clase personalizada con el método `__add__()` sobrecargado. Cuando se llama a `x.__add__(10)` , el método `__add__()`\n",
    " de MiClase se ejecuta y devuelve la suma de `self.x` y `y`, que es 15."
   ]
  },
  {
   "cell_type": "code",
   "execution_count": 35,
   "metadata": {},
   "outputs": [
    {
     "name": "stdout",
     "output_type": "stream",
     "text": [
      "5\n"
     ]
    }
   ],
   "source": [
    "class MiClase:\n",
    "    def __init__(self, x):\n",
    "        self.x = x\n",
    "\n",
    "    def mi_metodo(self):\n",
    "        print(self.x)\n",
    "\n",
    "objeto = MiClase(5)\n",
    "objeto.mi_metodo()  # Output: 5"
   ]
  },
  {
   "attachments": {},
   "cell_type": "markdown",
   "metadata": {},
   "source": [
    "* En Python, **`def`** se utiliza para definir una función, mientras que **`self`** se utiliza como una convención para referirse al objeto actual de una clase.\n",
    "* Cuando se define una función dentro de una clase en Python, el primer parámetro de la función debe ser **`self`**. Este parámetro hace referencia al objeto actual de la clase y se utiliza para acceder a los atributos y métodos de la instancia de la clase.\n"
   ]
  },
  {
   "cell_type": "markdown",
   "metadata": {},
   "source": [
    ">La función __init__() es un método especial que se llama cuando se crea una instancia de la clase y el parámetro self hace referencia a la instancia creada. El parámetro x es un argumento que se pasa al constructor de la clase.\n",
    ">El método mi_metodo() es una función definida en la clase MiClase que se puede llamar en una instancia de la clase. El parámetro self hace referencia a la instancia de la clase en la que se llama al método. En este caso, el método mi_metodo() simplemente imprime el valor del atributo x del objeto self.\n",
    ">En resumen, self es una convención en Python para referirse al objeto actual de una clase, mientras que def se utiliza para definir una función, incluyendo los métodos de una clase."
   ]
  },
  {
   "attachments": {},
   "cell_type": "markdown",
   "metadata": {},
   "source": [
    "### **Diccionario**"
   ]
  },
  {
   "cell_type": "code",
   "execution_count": 40,
   "metadata": {},
   "outputs": [
    {
     "data": {
      "text/plain": [
       "{'uno': <__main__.MiClase at 0x1bd91f287c0>, 'dos': 15}"
      ]
     },
     "execution_count": 40,
     "metadata": {},
     "output_type": "execute_result"
    }
   ],
   "source": [
    "diccionario={'uno': x, 'dos': x.__add__(10)};\n",
    "\n",
    "diccionario"
   ]
  },
  {
   "cell_type": "code",
   "execution_count": 37,
   "metadata": {},
   "outputs": [
    {
     "name": "stdout",
     "output_type": "stream",
     "text": [
      "Andre Ivan compro un cuaderno en <__main__.MiClase object at 0x000001BD91F287C0> pesos y el otro libro 15 pesos.\n"
     ]
    }
   ],
   "source": [
    "print(f\"{nombre.title()} compro un cuaderno en {diccionario['uno']} pesos y el otro libro {diccionario['dos']} pesos.\")"
   ]
  },
  {
   "attachments": {},
   "cell_type": "markdown",
   "metadata": {},
   "source": [
    "Se pueden revisar los métodos revisar los métodos disponibles de una variable utilizando la funcion dir()."
   ]
  },
  {
   "cell_type": "code",
   "execution_count": 38,
   "metadata": {},
   "outputs": [
    {
     "data": {
      "text/plain": [
       "['__add__',\n",
       " '__class__',\n",
       " '__delattr__',\n",
       " '__dict__',\n",
       " '__dir__',\n",
       " '__doc__',\n",
       " '__eq__',\n",
       " '__format__',\n",
       " '__ge__',\n",
       " '__getattribute__',\n",
       " '__gt__',\n",
       " '__hash__',\n",
       " '__init__',\n",
       " '__init_subclass__',\n",
       " '__le__',\n",
       " '__lt__',\n",
       " '__module__',\n",
       " '__ne__',\n",
       " '__new__',\n",
       " '__reduce__',\n",
       " '__reduce_ex__',\n",
       " '__repr__',\n",
       " '__setattr__',\n",
       " '__sizeof__',\n",
       " '__str__',\n",
       " '__subclasshook__',\n",
       " '__weakref__',\n",
       " 'x']"
      ]
     },
     "execution_count": 38,
     "metadata": {},
     "output_type": "execute_result"
    }
   ],
   "source": [
    "dir(x)"
   ]
  },
  {
   "attachments": {},
   "cell_type": "markdown",
   "metadata": {},
   "source": [
    "### La función help() nos muestra la información completa de cada variable"
   ]
  },
  {
   "cell_type": "code",
   "execution_count": 39,
   "metadata": {},
   "outputs": [
    {
     "name": "stdout",
     "output_type": "stream",
     "text": [
      "Help on MiClase in module __main__ object:\n",
      "\n",
      "class MiClase(builtins.object)\n",
      " |  MiClase(x)\n",
      " |  \n",
      " |  Methods defined here:\n",
      " |  \n",
      " |  __add__(self, y)\n",
      " |  \n",
      " |  __init__(self, x)\n",
      " |  \n",
      " |  ----------------------------------------------------------------------\n",
      " |  Data descriptors defined here:\n",
      " |  \n",
      " |  __dict__\n",
      " |      dictionary for instance variables (if defined)\n",
      " |  \n",
      " |  __weakref__\n",
      " |      list of weak references to the object (if defined)\n",
      "\n"
     ]
    }
   ],
   "source": [
    "help(x)"
   ]
  }
 ],
 "metadata": {
  "kernelspec": {
   "display_name": "base",
   "language": "python",
   "name": "python3"
  },
  "language_info": {
   "codemirror_mode": {
    "name": "ipython",
    "version": 3
   },
   "file_extension": ".py",
   "mimetype": "text/x-python",
   "name": "python",
   "nbconvert_exporter": "python",
   "pygments_lexer": "ipython3",
   "version": "3.9.13"
  },
  "orig_nbformat": 4
 },
 "nbformat": 4,
 "nbformat_minor": 2
}
