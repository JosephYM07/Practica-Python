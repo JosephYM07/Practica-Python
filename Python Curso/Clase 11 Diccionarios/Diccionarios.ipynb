{
 "cells": [
  {
   "cell_type": "markdown",
   "id": "762227d4",
   "metadata": {},
   "source": [
    "# Diccionario\n",
    "Los diccionarios en Python son una estructura de datos que permite almacenar su contenido en forma de llave y valor."
   ]
  },
  {
   "cell_type": "markdown",
   "id": "e1170627",
   "metadata": {},
   "source": [
    "- __Crear diccionario Python__\n",
    "\n",
    "Un diccionario en Python es una colección de elementos, donde cada uno tiene una llave key y un valor value. Los diccionarios se pueden crear con corchetes {} separando con una coma cada par key: value. En el siguiente ejemplo tenemos tres keys que son el nombre, la edad y el documento."
   ]
  },
  {
   "cell_type": "code",
   "execution_count": 1,
   "id": "75a7e4af",
   "metadata": {},
   "outputs": [
    {
     "name": "stdout",
     "output_type": "stream",
     "text": [
      "{'Nombre': 'Sara', 'Edad': 27, 'Documento': 1003882}\n"
     ]
    }
   ],
   "source": [
    "d1 = {\n",
    "  \"Nombre\": \"Sara\",\n",
    "  \"Edad\": 27,\n",
    "  \"Documento\": 1003882\n",
    "}\n",
    "print(d1)"
   ]
  },
  {
   "cell_type": "markdown",
   "id": "a2902997",
   "metadata": {},
   "source": [
    "__También es posible usar el constructor dict() para crear un diccionario.__"
   ]
  },
  {
   "cell_type": "markdown",
   "id": "5b167282",
   "metadata": {},
   "source": [
    "Otra forma equivalente de crear un diccionario en Python es usando dict() e introduciendo los pares key: value entre paréntesis."
   ]
  },
  {
   "cell_type": "code",
   "execution_count": 4,
   "id": "088b1d38",
   "metadata": {},
   "outputs": [
    {
     "name": "stdout",
     "output_type": "stream",
     "text": [
      "{'Nombre': 'Sara', 'Edad': 27, 'Documento': 1003882}\n"
     ]
    }
   ],
   "source": [
    "d2 = dict([\n",
    "      ('Nombre', 'Sara'),\n",
    "      ('Edad', 27),\n",
    "      ('Documento', 1003882),\n",
    "])\n",
    "print(d2)"
   ]
  },
  {
   "cell_type": "markdown",
   "id": "5e8dae97",
   "metadata": {},
   "source": [
    "También es posible usar el constructor dict() para crear un diccionario."
   ]
  },
  {
   "cell_type": "code",
   "execution_count": 2,
   "id": "8cb52860",
   "metadata": {},
   "outputs": [
    {
     "name": "stdout",
     "output_type": "stream",
     "text": [
      "{'Nombre': 'Sara', 'Edad': 27, 'Documento': 1003882}\n"
     ]
    }
   ],
   "source": [
    "d3 = dict(Nombre='Sara',\n",
    "          Edad=27,\n",
    "          Documento=1003882)\n",
    "print(d3)"
   ]
  },
  {
   "cell_type": "markdown",
   "id": "158fed31",
   "metadata": {},
   "source": [
    "Algunas propiedades de los diccionario en Python son las siguientes:\n",
    "\n",
    "- Son dinámicos, pueden crecer o decrecer, se pueden añadir o eliminar elementos.\n",
    "- Son indexados, los elementos del diccionario son accesibles a través del key.\n",
    "- Y son anidados, un diccionario puede contener a otro diccionario en su campo value."
   ]
  },
  {
   "cell_type": "markdown",
   "id": "01e37690",
   "metadata": {},
   "source": [
    "##  Acceder y modificar elementos\n",
    "Se puede acceder a sus elementos con [] o también con la función get()"
   ]
  },
  {
   "cell_type": "code",
   "execution_count": 5,
   "id": "ced3bbe0",
   "metadata": {},
   "outputs": [
    {
     "name": "stdout",
     "output_type": "stream",
     "text": [
      "Sara\n",
      "Sara\n"
     ]
    }
   ],
   "source": [
    "print(d1['Nombre'])     \n",
    "print(d1.get('Nombre'))"
   ]
  },
  {
   "cell_type": "markdown",
   "id": "9a28f56a",
   "metadata": {},
   "source": [
    "Para modificar un elemento basta con usar [] con el nombre del key y asignar el valor que queremos."
   ]
  },
  {
   "cell_type": "code",
   "execution_count": 6,
   "id": "9f4953b0",
   "metadata": {},
   "outputs": [
    {
     "name": "stdout",
     "output_type": "stream",
     "text": [
      "{'Nombre': 'Laura', 'Edad': 27, 'Documento': 1003882}\n"
     ]
    }
   ],
   "source": [
    "d1['Nombre'] = \"Laura\"\n",
    "print(d1)"
   ]
  },
  {
   "cell_type": "markdown",
   "id": "c8ce0889",
   "metadata": {},
   "source": [
    "__Si el key al que accedemos no existe, se añade automáticamente.__"
   ]
  },
  {
   "cell_type": "code",
   "execution_count": 7,
   "id": "a28e7ff9",
   "metadata": {},
   "outputs": [
    {
     "name": "stdout",
     "output_type": "stream",
     "text": [
      "{'Nombre': 'Laura', 'Edad': 27, 'Documento': 1003882, 'Direccion': 'Calle 123'}\n"
     ]
    }
   ],
   "source": [
    "d1['Direccion'] = \"Calle 123\"\n",
    "print(d1)"
   ]
  },
  {
   "cell_type": "markdown",
   "id": "d22073de",
   "metadata": {},
   "source": [
    "## Iterar diccionario\n",
    "\n",
    "Los diccionarios se pueden iterar de manera muy similar a las listas u otras estructuras de datos. Para imprimir los key."
   ]
  },
  {
   "cell_type": "code",
   "execution_count": 8,
   "id": "83609cb7",
   "metadata": {},
   "outputs": [
    {
     "name": "stdout",
     "output_type": "stream",
     "text": [
      "Nombre\n",
      "Edad\n",
      "Documento\n",
      "Direccion\n"
     ]
    }
   ],
   "source": [
    "# Imprime los key del diccionario\n",
    "for x in d1:\n",
    "    print(x)"
   ]
  },
  {
   "cell_type": "markdown",
   "id": "1e5ef1bc",
   "metadata": {},
   "source": [
    "Se puede imprimir también solo el value."
   ]
  },
  {
   "cell_type": "code",
   "execution_count": 11,
   "id": "2c8407f8",
   "metadata": {},
   "outputs": [
    {
     "name": "stdout",
     "output_type": "stream",
     "text": [
      "Laura\n",
      "27\n",
      "1003882\n",
      "Calle 123\n"
     ]
    }
   ],
   "source": [
    "# Impre los value del diccionario\n",
    "for x in d1:\n",
    "    print(d1[x])"
   ]
  },
  {
   "cell_type": "markdown",
   "id": "510af1fe",
   "metadata": {},
   "source": [
    "O si queremos imprimir el key y el value a la vez."
   ]
  },
  {
   "cell_type": "code",
   "execution_count": 12,
   "id": "9dac94a9",
   "metadata": {},
   "outputs": [
    {
     "name": "stdout",
     "output_type": "stream",
     "text": [
      "Nombre Laura\n",
      "Edad 27\n",
      "Documento 1003882\n",
      "Direccion Calle 123\n"
     ]
    }
   ],
   "source": [
    "# Imprime los key y value del diccionario\n",
    "for x, y in d1.items():\n",
    "    print(x, y)"
   ]
  },
  {
   "cell_type": "markdown",
   "id": "eb57cec8",
   "metadata": {},
   "source": [
    "## Diccionarios anidados\n",
    "\n",
    "Los diccionarios en Python pueden contener uno dentro de otro. Podemos ver como los valores anidado uno y dos del diccionario d contienen a su vez otro diccionario."
   ]
  },
  {
   "cell_type": "code",
   "execution_count": 13,
   "id": "b26d8abc",
   "metadata": {},
   "outputs": [
    {
     "name": "stdout",
     "output_type": "stream",
     "text": [
      "{'anidado1': {'a': 1, 'b': 2}, 'anidado2': {'a': 1, 'b': 2}}\n"
     ]
    }
   ],
   "source": [
    "anidado1 = {\"a\": 1, \"b\": 2}\n",
    "anidado2 = {\"a\": 1, \"b\": 2}\n",
    "d = {\n",
    "  \"anidado1\" : anidado1,\n",
    "  \"anidado2\" : anidado2\n",
    "}\n",
    "print(d)"
   ]
  },
  {
   "cell_type": "markdown",
   "id": "2889e1ab",
   "metadata": {},
   "source": [
    "# Métodos diccionarios Python"
   ]
  },
  {
   "cell_type": "markdown",
   "id": "fe3396be",
   "metadata": {},
   "source": [
    "- __del() permite eliminar los valores de un diccionario__"
   ]
  },
  {
   "cell_type": "code",
   "execution_count": 14,
   "id": "acb509ec",
   "metadata": {},
   "outputs": [
    {
     "name": "stdout",
     "output_type": "stream",
     "text": [
      "{'b': 2}\n"
     ]
    }
   ],
   "source": [
    "del anidado1[\"a\"];\n",
    "print(anidado1)"
   ]
  },
  {
   "cell_type": "markdown",
   "id": "71867fd9",
   "metadata": {},
   "source": [
    "- __clear()__\n",
    "\n",
    "elimina todo el contenido del diccionario"
   ]
  },
  {
   "cell_type": "code",
   "execution_count": 16,
   "id": "f9bd0089",
   "metadata": {},
   "outputs": [
    {
     "name": "stdout",
     "output_type": "stream",
     "text": [
      "{}\n"
     ]
    }
   ],
   "source": [
    "d={'a':1,'b':2}\n",
    "d.clear()\n",
    "print(d)"
   ]
  },
  {
   "cell_type": "markdown",
   "id": "7312dfd6",
   "metadata": {},
   "source": [
    "- __get(<key>[,<default>])__\n",
    "    \n",
    "El método get() nos permite consultar el value para un key determinado. El segundo parámetro es opcional, y en el caso de proporcionarlo es el valor a devolver si no se encuentra la key."
   ]
  },
  {
   "cell_type": "code",
   "execution_count": 24,
   "id": "ef8416cc",
   "metadata": {},
   "outputs": [
    {
     "name": "stdout",
     "output_type": "stream",
     "text": [
      "El # 1 fue encontrado\n",
      "No encontrado\n"
     ]
    }
   ],
   "source": [
    "d = {'a': 1, 'b': 2}\n",
    "print('El #',d.get('a'),'fue encontrado') #1\n",
    "print(d.get('z', 'No encontrado'))"
   ]
  },
  {
   "cell_type": "markdown",
   "id": "f433a00f",
   "metadata": {},
   "source": [
    "- __items()__\n",
    "\n",
    "El método items() devuelve una lista con los keys y values del diccionario. Si se convierte en list se puede indexar como si de una lista normal se tratase, siendo los primeros elementos las key y los segundos los value."
   ]
  },
  {
   "cell_type": "code",
   "execution_count": 25,
   "id": "e700bb09",
   "metadata": {},
   "outputs": [
    {
     "name": "stdout",
     "output_type": "stream",
     "text": [
      "dict_items([('a', 1), ('b', 2)])\n",
      "[('a', 1), ('b', 2)]\n",
      "a\n"
     ]
    }
   ],
   "source": [
    "d = {'a': 1, 'b': 2}\n",
    "it = d.items()\n",
    "print(it)             \n",
    "print(list(it))       \n",
    "print(list(it)[0][0])"
   ]
  },
  {
   "cell_type": "markdown",
   "id": "0454539a",
   "metadata": {},
   "source": [
    "- __keys()__\n",
    "\n",
    "El método keys() devuelve una lista con todas las keys del diccionario."
   ]
  },
  {
   "cell_type": "code",
   "execution_count": 29,
   "id": "34cc4c46",
   "metadata": {},
   "outputs": [
    {
     "name": "stdout",
     "output_type": "stream",
     "text": [
      "dict_keys(['a', 'b'])\n",
      "['a', 'b']\n"
     ]
    }
   ],
   "source": [
    "d = {'a': 1, 'b': 2}\n",
    "k = d.keys()\n",
    "print(k)       \n",
    "print(list(k)) "
   ]
  },
  {
   "cell_type": "markdown",
   "id": "8c3debdf",
   "metadata": {},
   "source": [
    "- __values()__\n",
    "\n",
    "El método values() devuelve una lista con todos los values o valores del diccionario."
   ]
  },
  {
   "cell_type": "code",
   "execution_count": 30,
   "id": "2cecbc53",
   "metadata": {},
   "outputs": [
    {
     "name": "stdout",
     "output_type": "stream",
     "text": [
      "[1, 2]\n"
     ]
    }
   ],
   "source": [
    "d = {'a': 1, 'b': 2}\n",
    "print(list(d.values()))"
   ]
  },
  {
   "cell_type": "markdown",
   "id": "fc04b3d9",
   "metadata": {},
   "source": [
    "- __pop(<key>[,<default>])__\n",
    "    \n",
    "El método pop() busca y elimina la key que se pasa como parámetro y devuelve su valor asociado. Daría un error si se intenta eliminar una key que no existe."
   ]
  },
  {
   "cell_type": "code",
   "execution_count": 31,
   "id": "6eeb9692",
   "metadata": {},
   "outputs": [
    {
     "name": "stdout",
     "output_type": "stream",
     "text": [
      "{'b': 2}\n"
     ]
    }
   ],
   "source": [
    "d = {'a': 1, 'b': 2}\n",
    "d.pop('a')\n",
    "print(d)"
   ]
  },
  {
   "cell_type": "markdown",
   "id": "9d1d1e32",
   "metadata": {},
   "source": [
    "- __popitem()__\n",
    "\n",
    "El método popitem() elimina de manera aleatoria un elemento del diccionario."
   ]
  },
  {
   "cell_type": "code",
   "execution_count": 33,
   "id": "43101d27",
   "metadata": {},
   "outputs": [
    {
     "name": "stdout",
     "output_type": "stream",
     "text": [
      "{'a': 1}\n"
     ]
    }
   ],
   "source": [
    "d = {'a': 1, 'b': 2}\n",
    "d.popitem()\n",
    "print(d)"
   ]
  },
  {
   "cell_type": "markdown",
   "id": "e17c3d53",
   "metadata": {},
   "source": [
    "- __update(<obj>)__\n",
    "    \n",
    "El método update() se llama sobre un diccionario y tiene como entrada otro diccionario. Los value son actualizados y si alguna key del nuevo diccionario no esta, es añadida."
   ]
  },
  {
   "cell_type": "code",
   "execution_count": 34,
   "id": "49af5c8a",
   "metadata": {},
   "outputs": [
    {
     "name": "stdout",
     "output_type": "stream",
     "text": [
      "{'a': 0, 'b': 2, 'd': 400}\n"
     ]
    }
   ],
   "source": [
    "d1 = {'a': 1, 'b': 2}\n",
    "d2 = {'a': 0, 'd': 400}\n",
    "d1.update(d2)\n",
    "print(d1)"
   ]
  }
 ],
 "metadata": {
  "kernelspec": {
   "display_name": "Python 3 (ipykernel)",
   "language": "python",
   "name": "python3"
  },
  "language_info": {
   "codemirror_mode": {
    "name": "ipython",
    "version": 3
   },
   "file_extension": ".py",
   "mimetype": "text/x-python",
   "name": "python",
   "nbconvert_exporter": "python",
   "pygments_lexer": "ipython3",
   "version": "3.10.9"
  },
  "varInspector": {
   "cols": {
    "lenName": 16,
    "lenType": 16,
    "lenVar": 40
   },
   "kernels_config": {
    "python": {
     "delete_cmd_postfix": "",
     "delete_cmd_prefix": "del ",
     "library": "var_list.py",
     "varRefreshCmd": "print(var_dic_list())"
    },
    "r": {
     "delete_cmd_postfix": ") ",
     "delete_cmd_prefix": "rm(",
     "library": "var_list.r",
     "varRefreshCmd": "cat(var_dic_list()) "
    }
   },
   "types_to_exclude": [
    "module",
    "function",
    "builtin_function_or_method",
    "instance",
    "_Feature"
   ],
   "window_display": false
  }
 },
 "nbformat": 4,
 "nbformat_minor": 5
}
