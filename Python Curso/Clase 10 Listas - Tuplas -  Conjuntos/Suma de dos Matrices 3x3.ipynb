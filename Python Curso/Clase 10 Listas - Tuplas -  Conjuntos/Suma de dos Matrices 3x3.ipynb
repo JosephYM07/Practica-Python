{
 "cells": [
  {
   "cell_type": "code",
   "execution_count": null,
   "id": "9b1e1840",
   "metadata": {},
   "outputs": [],
   "source": [
    "filas=4\n",
    "columnas=4\n",
    "matriz1= []\n",
    "matriz2=[]\n",
    "suma=[]\n",
    "print(\"Matriz 1\")\n",
    "for i in range(filas):\n",
    "    matriz1.append([])\n",
    "    for j in range(columnas):\n",
    "        valor=float(input(\"Fila {}, Columna {} : \".format(i+1,j+1)))\n",
    "        matriz1[i].append(valor)\n",
    "print()\n",
    "for fila in matriz1:\n",
    "    print(\"[\",end=\"\")\n",
    "    for elemento in fila:\n",
    "        print(\"{:8.2f}\".format(elemento),end=\"\")\n",
    "    print(\"]\")\n",
    "print()\n",
    "    \n",
    "print(\"Matriz 2\")\n",
    "for i in range(filas):\n",
    "    matriz2.append([])\n",
    "    for j in range(columnas):\n",
    "        valor=float(input(\"Fila {}, Columna {} : \".format(i+1,j+1)))\n",
    "        matriz2[i].append(valor)\n",
    "        print()\n",
    "for fila in matriz2:\n",
    "    print(\"[\",end=\"\")\n",
    "    for elemento in fila:\n",
    "        print(\"{:8.2f}\".format(elemento),end=\"\")\n",
    "    print(\"]\")\n",
    "print()\n",
    "print(\"suma de matrices\")\n",
    "print()\n",
    "c=[]\n",
    "for i in range(filas):\n",
    "    c.append([0]*columnas)\n",
    "    \n",
    "for i in range(filas):\n",
    "    for j in range(columnas):\n",
    "        c[i][j]=matriz1[i][j]+matriz2[i][j]\n",
    "for i in range(filas):\n",
    "    r=[]\n",
    "    for j in range(columnas):\n",
    "        r.append(c[i][j])\n",
    "    print(r)\n",
    "        \n",
    "print()\n"
   ]
  }
 ],
 "metadata": {
  "kernelspec": {
   "display_name": "Python 3 (ipykernel)",
   "language": "python",
   "name": "python3"
  },
  "language_info": {
   "codemirror_mode": {
    "name": "ipython",
    "version": 3
   },
   "file_extension": ".py",
   "mimetype": "text/x-python",
   "name": "python",
   "nbconvert_exporter": "python",
   "pygments_lexer": "ipython3",
   "version": "3.10.9"
  },
  "varInspector": {
   "cols": {
    "lenName": 16,
    "lenType": 16,
    "lenVar": 40
   },
   "kernels_config": {
    "python": {
     "delete_cmd_postfix": "",
     "delete_cmd_prefix": "del ",
     "library": "var_list.py",
     "varRefreshCmd": "print(var_dic_list())"
    },
    "r": {
     "delete_cmd_postfix": ") ",
     "delete_cmd_prefix": "rm(",
     "library": "var_list.r",
     "varRefreshCmd": "cat(var_dic_list()) "
    }
   },
   "types_to_exclude": [
    "module",
    "function",
    "builtin_function_or_method",
    "instance",
    "_Feature"
   ],
   "window_display": false
  }
 },
 "nbformat": 4,
 "nbformat_minor": 5
}
