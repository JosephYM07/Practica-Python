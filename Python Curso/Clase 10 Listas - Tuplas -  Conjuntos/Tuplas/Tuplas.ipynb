{
 "cells": [
  {
   "cell_type": "markdown",
   "id": "abb22dd9",
   "metadata": {},
   "source": [
    "#  3.3 Tuplas"
   ]
  },
  {
   "cell_type": "markdown",
   "id": "c1b899a2",
   "metadata": {},
   "source": [
    "Una tupla es una secuencia de valores (muy parecida a una lista). Los valores almacenados en una tupla pueden ser cualquier tipo, y también están indexados. __Las tuplas en Python son un tipo o estructura de datos que permite almacenar datos de una manera muy parecida a las listas, con la salvedad de que son inmutables.__"
   ]
  },
  {
   "cell_type": "markdown",
   "id": "e25e6687",
   "metadata": {},
   "source": [
    "## Crear tupla Python\n",
    "Las tuplas en Python o tuples son muy similares a las listas, pero con dos diferencias. Son inmutables, lo que significa que no pueden ser modificadas una vez declaradas, y en vez de inicializarse con corchetes se hace con (). Dependiendo de lo que queramos hacer, las tuplas pueden ser más rápidas."
   ]
  },
  {
   "cell_type": "markdown",
   "id": "71d8f922",
   "metadata": {},
   "source": [
    "Al igual que las listas, las tuplas también pueden ser anidadas."
   ]
  },
  {
   "cell_type": "code",
   "execution_count": 6,
   "id": "8791c36a",
   "metadata": {},
   "outputs": [
    {
     "name": "stdout",
     "output_type": "stream",
     "text": [
      "('Lunes', 'Martes', 'Miercoles')\n",
      "([1, 2, 3], 'a', 71.4, ('Lunes', 'Martes', 'Miercoles'))\n"
     ]
    }
   ],
   "source": [
    "print(tupla);\n",
    "print(tupla_multiple)"
   ]
  },
  {
   "cell_type": "code",
   "execution_count": 8,
   "id": "132e8f0d",
   "metadata": {},
   "outputs": [
    {
     "name": "stdout",
     "output_type": "stream",
     "text": [
      "[1, 2, 3]\n",
      "a\n",
      "71.4\n",
      "('Lunes', 'Martes', 'Miercoles')\n"
     ]
    }
   ],
   "source": [
    "print(tupla_multiple[0])\n",
    "print(tupla_multiple[1])\n",
    "print(tupla_multiple[2])\n",
    "print(tupla_multiple[3])"
   ]
  },
  {
   "cell_type": "markdown",
   "id": "b3972113",
   "metadata": {},
   "source": [
    "Como hemos comentado, las tuplas son tipos inmutables, lo que significa que una vez asignado su valor, no puede ser modificado. Si se intenta, tendremos un TypeError."
   ]
  },
  {
   "cell_type": "code",
   "execution_count": 9,
   "id": "ec0b4134",
   "metadata": {},
   "outputs": [
    {
     "ename": "TypeError",
     "evalue": "'tuple' object does not support item assignment",
     "output_type": "error",
     "traceback": [
      "\u001b[1;31m---------------------------------------------------------------------------\u001b[0m",
      "\u001b[1;31mTypeError\u001b[0m                                 Traceback (most recent call last)",
      "Cell \u001b[1;32mIn[9], line 1\u001b[0m\n\u001b[1;32m----> 1\u001b[0m tupla_multiple[\u001b[38;5;241m0\u001b[39m]\u001b[38;5;241m=\u001b[39m\u001b[38;5;241m4\u001b[39m\n",
      "\u001b[1;31mTypeError\u001b[0m: 'tuple' object does not support item assignment"
     ]
    }
   ],
   "source": [
    "tupla_multiple[0]=4"
   ]
  },
  {
   "cell_type": "markdown",
   "id": "73b3c466",
   "metadata": {},
   "source": [
    "_Si queremos modificar sus elementos debemos transformar a lista__"
   ]
  },
  {
   "cell_type": "code",
   "execution_count": 21,
   "id": "78cc8f9f",
   "metadata": {},
   "outputs": [
    {
     "data": {
      "text/plain": [
       "[1, 2, 3]"
      ]
     },
     "execution_count": 21,
     "metadata": {},
     "output_type": "execute_result"
    }
   ],
   "source": [
    "lista=list(tupla)\n",
    "lista"
   ]
  },
  {
   "cell_type": "code",
   "execution_count": 25,
   "id": "00efb1b2",
   "metadata": {},
   "outputs": [
    {
     "name": "stdout",
     "output_type": "stream",
     "text": [
      "['Domingo', 2, 3]\n"
     ]
    }
   ],
   "source": [
    "lista[0]='Domingo'\n",
    "print(lista)"
   ]
  },
  {
   "cell_type": "markdown",
   "id": "bab26f8a",
   "metadata": {},
   "source": [
    "Y también es posible convertir una lista en tupla haciendo uso de al función tuple()."
   ]
  },
  {
   "cell_type": "code",
   "execution_count": 26,
   "id": "c74caaa9",
   "metadata": {},
   "outputs": [
    {
     "name": "stdout",
     "output_type": "stream",
     "text": [
      "<class 'tuple'>\n",
      "(1, 2, 3)\n"
     ]
    }
   ],
   "source": [
    "lista = [1, 2, 3]\n",
    "tupla = tuple(lista)\n",
    "print(type(tupla)) \n",
    "print(tupla)       "
   ]
  },
  {
   "cell_type": "markdown",
   "id": "4b84f48f",
   "metadata": {},
   "source": [
    "# Métodos"
   ]
  },
  {
   "cell_type": "markdown",
   "id": "1b3cc8d7",
   "metadata": {},
   "source": [
    "__count(<obj>)__\n",
    "    \n",
    "El método count() cuenta el número de veces que el objeto pasado como parámetro se ha encontrado en la lista."
   ]
  },
  {
   "cell_type": "code",
   "execution_count": 30,
   "id": "15e3c1ed",
   "metadata": {},
   "outputs": [
    {
     "name": "stdout",
     "output_type": "stream",
     "text": [
      "1\n"
     ]
    }
   ],
   "source": [
    "l = [1, 1, 1, 3, 5]\n",
    "print(l.count(5)) "
   ]
  },
  {
   "cell_type": "markdown",
   "id": "f7821800",
   "metadata": {},
   "source": [
    "__index(<obj>[,index])__\n",
    "\n",
    "El método index() busca el objeto que se le pasa como parámetro y devuelve el índice en el que se ha encontrado.\n",
    "< En el caso de no encontrarse, se devuelve un ValueError.>"
   ]
  },
  {
   "cell_type": "code",
   "execution_count": 35,
   "id": "ca20c0df",
   "metadata": {},
   "outputs": [
    {
     "name": "stdout",
     "output_type": "stream",
     "text": [
      "5\n"
     ]
    }
   ],
   "source": [
    "l = [7, 7, 7, 3, 5,6]\n",
    "print(l.index(6))"
   ]
  },
  {
   "cell_type": "code",
   "execution_count": 36,
   "id": "feea060b",
   "metadata": {},
   "outputs": [
    {
     "ename": "ValueError",
     "evalue": "0 is not in list",
     "output_type": "error",
     "traceback": [
      "\u001b[1;31m---------------------------------------------------------------------------\u001b[0m",
      "\u001b[1;31mValueError\u001b[0m                                Traceback (most recent call last)",
      "Cell \u001b[1;32mIn[36], line 2\u001b[0m\n\u001b[0;32m      1\u001b[0m l \u001b[38;5;241m=\u001b[39m [\u001b[38;5;241m7\u001b[39m, \u001b[38;5;241m7\u001b[39m, \u001b[38;5;241m7\u001b[39m, \u001b[38;5;241m3\u001b[39m, \u001b[38;5;241m5\u001b[39m,\u001b[38;5;241m6\u001b[39m]\n\u001b[1;32m----> 2\u001b[0m \u001b[38;5;28mprint\u001b[39m(\u001b[43ml\u001b[49m\u001b[38;5;241;43m.\u001b[39;49m\u001b[43mindex\u001b[49m\u001b[43m(\u001b[49m\u001b[38;5;241;43m0\u001b[39;49m\u001b[43m)\u001b[49m)\n",
      "\u001b[1;31mValueError\u001b[0m: 0 is not in list"
     ]
    }
   ],
   "source": [
    "l = [7, 7, 7, 3, 5,6]\n",
    "print(l.index(0))"
   ]
  },
  {
   "cell_type": "markdown",
   "id": "8bd81012",
   "metadata": {},
   "source": [
    "__El método index() también acepta un segundo parámetro opcional, que indica a partir de que índice empezar a buscar el objeto.__"
   ]
  },
  {
   "cell_type": "code",
   "execution_count": 39,
   "id": "6e8ab854",
   "metadata": {},
   "outputs": [
    {
     "name": "stdout",
     "output_type": "stream",
     "text": [
      "5\n"
     ]
    }
   ],
   "source": [
    "l = [7, 7, 7, 3, 5,6]\n",
    "print(l.index(6, 5)) "
   ]
  }
 ],
 "metadata": {
  "kernelspec": {
   "display_name": "Python 3 (ipykernel)",
   "language": "python",
   "name": "python3"
  },
  "language_info": {
   "codemirror_mode": {
    "name": "ipython",
    "version": 3
   },
   "file_extension": ".py",
   "mimetype": "text/x-python",
   "name": "python",
   "nbconvert_exporter": "python",
   "pygments_lexer": "ipython3",
   "version": "3.10.9"
  },
  "nbTranslate": {
   "displayLangs": [
    "*"
   ],
   "hotkey": "alt-t",
   "langInMainMenu": true,
   "sourceLang": "en",
   "targetLang": "fr",
   "useGoogleTranslate": true
  },
  "toc": {
   "base_numbering": 1,
   "nav_menu": {},
   "number_sections": true,
   "sideBar": true,
   "skip_h1_title": false,
   "title_cell": "Table of Contents",
   "title_sidebar": "Contents",
   "toc_cell": false,
   "toc_position": {},
   "toc_section_display": true,
   "toc_window_display": false
  },
  "varInspector": {
   "cols": {
    "lenName": 16,
    "lenType": 16,
    "lenVar": 40
   },
   "kernels_config": {
    "python": {
     "delete_cmd_postfix": "",
     "delete_cmd_prefix": "del ",
     "library": "var_list.py",
     "varRefreshCmd": "print(var_dic_list())"
    },
    "r": {
     "delete_cmd_postfix": ") ",
     "delete_cmd_prefix": "rm(",
     "library": "var_list.r",
     "varRefreshCmd": "cat(var_dic_list()) "
    }
   },
   "types_to_exclude": [
    "module",
    "function",
    "builtin_function_or_method",
    "instance",
    "_Feature"
   ],
   "window_display": false
  }
 },
 "nbformat": 4,
 "nbformat_minor": 5
}
