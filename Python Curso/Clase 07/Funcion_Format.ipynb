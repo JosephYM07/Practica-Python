{
 "cells": [
  {
   "cell_type": "markdown",
   "id": "440222bb",
   "metadata": {},
   "source": [
    "# __2.9 Funcion format()__"
   ]
  },
  {
   "cell_type": "markdown",
   "id": "e7c2eebb",
   "metadata": {},
   "source": [
    "La sintaxis del método __str.format()__ es la siguiente:"
   ]
  },
  {
   "cell_type": "markdown",
   "id": "609d5989",
   "metadata": {},
   "source": [
    "__\"template string {}\".format(arguments)__"
   ]
  },
  {
   "cell_type": "markdown",
   "id": "e8df302c",
   "metadata": {},
   "source": [
    "En este ejemplo, queremos imprimir lo siguiente \"Hello, my name is Joseph. I am a programming student.\""
   ]
  },
  {
   "cell_type": "code",
   "execution_count": 17,
   "id": "58f8abb4",
   "metadata": {},
   "outputs": [
    {
     "name": "stdout",
     "output_type": "stream",
     "text": [
      "Hello, my name is Joseph. I am a programming student.\n"
     ]
    }
   ],
   "source": [
    "print(\"Hello, my name is {}. I am a {} {}.\".format(\"Joseph\", \"programming\", \"student\"))"
   ]
  },
  {
   "cell_type": "markdown",
   "id": "1bc3afa5",
   "metadata": {},
   "source": [
    "### Argumentos posicionales\n",
    "\n",
    "Puedes acceder al valor de estos argumentos usando un número como índice adentro de  {}."
   ]
  },
  {
   "cell_type": "code",
   "execution_count": null,
   "id": "0e7005f2",
   "metadata": {},
   "outputs": [],
   "source": [
    "uno = 1\n",
    "dos = 2"
   ]
  },
  {
   "cell_type": "code",
   "execution_count": 14,
   "id": "7cf91c47",
   "metadata": {},
   "outputs": [
    {
     "name": "stdout",
     "output_type": "stream",
     "text": [
      "1,2\n",
      "2,1\n",
      "1,2\n"
     ]
    }
   ],
   "source": [
    "print('{},{}'.format(uno, dos));\n",
    "print('{1},{0}'.format(uno, dos))\n",
    "\n",
    "print('{1},{0}'.format(dos,uno))"
   ]
  },
  {
   "cell_type": "markdown",
   "id": "3f77cb5e",
   "metadata": {},
   "source": [
    "### __¿Qué son los formatos de literales de cadenas?__\n",
    "\n",
    "Los literales de cadenas (o f-strings) nos permiten introducir expresiones al interior de una cadena. Funcionan introduciendo un  f o F para indicar al programa que debe usar f-string.\n",
    "\n",
    "La sintaxis es la siguiente:"
   ]
  },
  {
   "cell_type": "code",
   "execution_count": 20,
   "id": "fcf3378e",
   "metadata": {},
   "outputs": [
    {
     "name": "stdout",
     "output_type": "stream",
     "text": [
      "Roberto and Joseph have been friends since grade school.\n"
     ]
    }
   ],
   "source": [
    "name = \"Joseph\"\n",
    "print(f\"Roberto and {name} have been friends since grade school.\")"
   ]
  },
  {
   "cell_type": "markdown",
   "id": "6af2c424",
   "metadata": {},
   "source": [
    "### __Finalmente, también es posible emplear f-string para dar formato a un diccionario.__"
   ]
  },
  {
   "cell_type": "markdown",
   "id": "71186a97",
   "metadata": {},
   "source": [
    "Podemos usar un for loop y el método items() para cada uno de los pareskey value del diccionario rankings."
   ]
  },
  {
   "cell_type": "markdown",
   "id": "52eb5b27",
   "metadata": {},
   "source": [
    "Dentro de for loop, podemos usar f-string para dar formato a los resultados.\n",
    "El uso de : para  __{equipo:10}__ y __{puntaje:10d}__ da la instrucción de crear un campo con 10 caracteres de longitud.\n",
    "La d interior de __{puntaje:10d}__ se refiere a un entero decimal"
   ]
  },
  {
   "cell_type": "code",
   "execution_count": 28,
   "id": "97735a08",
   "metadata": {},
   "outputs": [
    {
     "name": "stdout",
     "output_type": "stream",
     "text": [
      "Gonzaga    ==>         36\n",
      "Baylor     ==>         28\n",
      "Michigan   ==>         25\n",
      "Illinois   ==>         24\n",
      "Houston    ==>         21\n"
     ]
    }
   ],
   "source": [
    "rankings = {\"Gonzaga\": 36, \"Baylor\": 28, \"Michigan\": 25, \"Illinois\": 24, \"Houston\": 21}\n",
    "\n",
    "for equipo, puntaje in rankings.items():\n",
    "    print(f\"{equipo:10} ==> {puntaje:10d}\")"
   ]
  }
 ],
 "metadata": {
  "kernelspec": {
   "display_name": "Python 3 (ipykernel)",
   "language": "python",
   "name": "python3"
  },
  "language_info": {
   "codemirror_mode": {
    "name": "ipython",
    "version": 3
   },
   "file_extension": ".py",
   "mimetype": "text/x-python",
   "name": "python",
   "nbconvert_exporter": "python",
   "pygments_lexer": "ipython3",
   "version": "3.9.13"
  }
 },
 "nbformat": 4,
 "nbformat_minor": 5
}
