{
 "cells": [
  {
   "cell_type": "markdown",
   "id": "d3242f62",
   "metadata": {},
   "source": [
    "# __3. Listas__"
   ]
  },
  {
   "cell_type": "markdown",
   "id": "872e9674",
   "metadata": {},
   "source": [
    "Las listas en Python son un tipo de dato que permite almacenar datos de cualquier tipo. Son __mutables y dinámicas__, lo cual es la principal diferencia con los sets y las tuplas."
   ]
  },
  {
   "cell_type": "markdown",
   "id": "f4e27851",
   "metadata": {},
   "source": [
    "## __Crear listas Python__\n",
    "\n",
    "Las listas en Python son uno de los tipos o estructuras de datos más versátiles del lenguaje, ya que <span class=\"mark\">permiten almacenar un conjunto arbitrario de datos</span>. Es decir, podemos guardar en ellas prácticamente lo que sea. Si vienes de otros lenguajes de programación, se podría decir que son similares a los arrays."
   ]
  },
  {
   "cell_type": "code",
   "execution_count": 11,
   "id": "c6ea6035",
   "metadata": {},
   "outputs": [],
   "source": [
    "lista_de_compras=[\"Huevos\",\"Leche\",\"Queso\",\"Jamon\"]\n",
    "lista_de_precios=[\"Huevos\",1.5,\"Leche\",2,\"Queso\",3.5,\"Jamon\",5]"
   ]
  },
  {
   "cell_type": "code",
   "execution_count": 12,
   "id": "1f6bff53",
   "metadata": {},
   "outputs": [
    {
     "data": {
      "text/plain": [
       "list"
      ]
     },
     "execution_count": 12,
     "metadata": {},
     "output_type": "execute_result"
    }
   ],
   "source": [
    "type(lista_de_compras)"
   ]
  },
  {
   "cell_type": "code",
   "execution_count": 13,
   "id": "d0e32cf3",
   "metadata": {},
   "outputs": [
    {
     "data": {
      "text/plain": [
       "['Huevos', 'Leche', 'Queso', 'Jamon']"
      ]
     },
     "execution_count": 13,
     "metadata": {},
     "output_type": "execute_result"
    }
   ],
   "source": [
    "lista_de_compras"
   ]
  },
  {
   "cell_type": "code",
   "execution_count": 19,
   "id": "d8f14cf4",
   "metadata": {},
   "outputs": [
    {
     "name": "stdout",
     "output_type": "stream",
     "text": [
      "Los Huevos cuestan 1.5 , los Queso cuestan 3.5\n"
     ]
    }
   ],
   "source": [
    "print(f\"\"\"Los {lista_de_compras[0]} cuestan {lista_de_precios[1]} , los {lista_de_compras[2]} cuestan {lista_de_precios[5]}\"\"\")"
   ]
  },
  {
   "cell_type": "markdown",
   "id": "a0c1c7da",
   "metadata": {},
   "source": [
    "__También se puede crear usando list y pasando un objeto iterable.__"
   ]
  },
  {
   "cell_type": "code",
   "execution_count": 43,
   "id": "28d89c67",
   "metadata": {},
   "outputs": [
    {
     "name": "stdout",
     "output_type": "stream",
     "text": [
      "['h', 'u', 'e', 'v', 'o', 's', 'L', 'e', 'c', 'h', 'e', 'Q', 'u', 'e', 's', 'o', 'J', 'a', 'm', 'o', 'n']\n"
     ]
    }
   ],
   "source": [
    "lista_de_compras2=list(\"huevosLecheQuesoJamon\")\n",
    "print(lista_de_compras2)\n"
   ]
  },
  {
   "cell_type": "code",
   "execution_count": 45,
   "id": "a5bde49a",
   "metadata": {},
   "outputs": [
    {
     "name": "stdout",
     "output_type": "stream",
     "text": [
      "[1, 2, 3, 4, 5]\n"
     ]
    }
   ],
   "source": [
    "lista_numeros=[1,2,3,4,5]\n",
    "print(lista_numeros)"
   ]
  },
  {
   "cell_type": "code",
   "execution_count": 49,
   "id": "5fdd9d9c",
   "metadata": {},
   "outputs": [
    {
     "name": "stdout",
     "output_type": "stream",
     "text": [
      "['1', '2', '3', '4', '5']\n"
     ]
    }
   ],
   "source": [
    "lista_numeros=list(\"12345\")\n",
    "print(lista_numeros)"
   ]
  },
  {
   "cell_type": "markdown",
   "id": "2b3b9a9b",
   "metadata": {},
   "source": [
    "__Una lista sea crea con [ ] separando sus elementos con comas ,. Una gran ventaja es que pueden almacenar tipos de datos distintos.__"
   ]
  },
  {
   "cell_type": "code",
   "execution_count": 52,
   "id": "444867fc",
   "metadata": {},
   "outputs": [
    {
     "name": "stdout",
     "output_type": "stream",
     "text": [
      "[1, 'Hola', 3.67, [1, 2, 3]]\n"
     ]
    }
   ],
   "source": [
    "lista = [1, \"Hola\", 3.67, [1, 2, 3]]\n",
    "print(lista)"
   ]
  },
  {
   "cell_type": "markdown",
   "id": "0e1907b0",
   "metadata": {},
   "source": [
    "Algunas propiedades de las listas:\n",
    "\n",
    "- Son ordenadas, mantienen el orden en el que han sido definidas\n",
    "- Pueden ser formadas por tipos arbitrarios\n",
    "- Pueden ser indexadas con [i].\n",
    "- Se pueden anidar, es decir, meter una dentro de la otra.\n",
    "- Son mutables, ya que sus elementos pueden ser modificados.\n",
    "- Son dinámicas, ya que se pueden añadir o eliminar elementos."
   ]
  },
  {
   "cell_type": "markdown",
   "id": "3d03d19b",
   "metadata": {},
   "source": [
    "# Mutabilidad o Acceder y modificar listas"
   ]
  },
  {
   "cell_type": "markdown",
   "id": "c45afcd5",
   "metadata": {},
   "source": [
    "Si tenemos una lista a con 3 elementos almacenados en ella, podemos acceder a los mismos usando corchetes y un índice, que va desde 0 a n-1 siendo n el tamaño de la lista."
   ]
  },
  {
   "cell_type": "code",
   "execution_count": 63,
   "id": "5cd132d6",
   "metadata": {},
   "outputs": [
    {
     "name": "stdout",
     "output_type": "stream",
     "text": [
      "90\n",
      "Python\n",
      "3.87\n"
     ]
    }
   ],
   "source": [
    "a = [90, \"Python\", 3.87]\n",
    "print(a[0]) \n",
    "print(a[1]) \n",
    "print(a[2]) "
   ]
  },
  {
   "cell_type": "markdown",
   "id": "af9407b1",
   "metadata": {},
   "source": [
    "Y si queremos modificar un elemento de la lista, basta con asignar con el operador = el nuevo valor."
   ]
  },
  {
   "cell_type": "code",
   "execution_count": 55,
   "id": "cf6490c3",
   "metadata": {},
   "outputs": [
    {
     "name": "stdout",
     "output_type": "stream",
     "text": [
      "[90, 'Python', 1]\n"
     ]
    }
   ],
   "source": [
    "a[2] = 1\n",
    "print(a)"
   ]
  },
  {
   "cell_type": "markdown",
   "id": "05915327",
   "metadata": {},
   "source": [
    "Un elemento puede ser eliminado con diferentes métodos como veremos a continuación, o con __del__ y la lista con el índice a eliminar."
   ]
  },
  {
   "cell_type": "code",
   "execution_count": 64,
   "id": "d2ae71c3",
   "metadata": {},
   "outputs": [
    {
     "name": "stdout",
     "output_type": "stream",
     "text": [
      "[90, 3.87]\n"
     ]
    }
   ],
   "source": [
    "del a[1] #a[posicion del index]\n",
    "print(a) # Se elimina python porque está en la posición 1 "
   ]
  },
  {
   "cell_type": "markdown",
   "id": "00c84095",
   "metadata": {},
   "source": [
    "También podemos tener listas anidadas, es decir, una lista dentro de otra. Incluso podemos tener una lista dentro de otra lista y a su vez dentro de otra lista. Para acceder a sus elementos sólo tenemos que usar [] tantas veces como niveles de anidado tengamos."
   ]
  },
  {
   "cell_type": "code",
   "execution_count": 66,
   "id": "c40518eb",
   "metadata": {},
   "outputs": [
    {
     "name": "stdout",
     "output_type": "stream",
     "text": [
      "p 5 7\n"
     ]
    }
   ],
   "source": [
    "x = [1, 2, 3, ['p', 'q', [5, 6, 7]]]\n",
    "print(x[3][0],x[3][2][0],x[3][2][2])    "
   ]
  },
  {
   "cell_type": "markdown",
   "id": "ca3e8510",
   "metadata": {},
   "source": [
    "También es posible crear sublistas más pequeñas de una más grande. Para ello debemos de usar : entre corchetes, indicando a la izquierda el valor de inicio, y a la izquierda el valor final que no está incluido. Por lo tanto [0:2] creará una lista con los elementos [0] y [1] de la original."
   ]
  },
  {
   "cell_type": "code",
   "execution_count": 79,
   "id": "f37be773",
   "metadata": {},
   "outputs": [
    {
     "name": "stdout",
     "output_type": "stream",
     "text": [
      "[1, 2, 3]\n",
      "[4, 5, 6]\n"
     ]
    }
   ],
   "source": [
    "l=[1,2,3,4,5,6]\n",
    "print(l[0:3])\n",
    "print(l[3:6])"
   ]
  },
  {
   "cell_type": "markdown",
   "id": "36c42c62",
   "metadata": {},
   "source": [
    "Y de la misma manera podemos modificar múltiples valores de la lista a la vez usando __:__ ."
   ]
  },
  {
   "cell_type": "code",
   "execution_count": 80,
   "id": "10006ccc",
   "metadata": {},
   "outputs": [
    {
     "name": "stdout",
     "output_type": "stream",
     "text": [
      "[0, 0, 0, 4, 5, 6]\n"
     ]
    }
   ],
   "source": [
    "l = [1, 2, 3, 4, 5, 6]\n",
    "l[0:3] = [0, 0, 0]\n",
    "print(l) "
   ]
  },
  {
   "cell_type": "markdown",
   "id": "62076d61",
   "metadata": {},
   "source": [
    "Hay ciertos operadores como el + que pueden ser usados sobre las listas."
   ]
  },
  {
   "cell_type": "code",
   "execution_count": 83,
   "id": "05969e25",
   "metadata": {},
   "outputs": [
    {
     "name": "stdout",
     "output_type": "stream",
     "text": [
      "[1, 2, 3, 4, 5, 6, 7, 8, 9, 10]\n"
     ]
    }
   ],
   "source": [
    "l = [1, 2, 3, 4, 5, 6]\n",
    "l+=[7,8,9,10]\n",
    "print(l)"
   ]
  },
  {
   "cell_type": "markdown",
   "id": "fb17794a",
   "metadata": {},
   "source": [
    "Y una funcionalidad muy interesante es que se puede asignar una lista con n elementos a n variables."
   ]
  },
  {
   "cell_type": "code",
   "execution_count": 88,
   "id": "9eb73038",
   "metadata": {},
   "outputs": [
    {
     "name": "stdout",
     "output_type": "stream",
     "text": [
      "1 2 3\n"
     ]
    }
   ],
   "source": [
    "l = [1, 2, 3]\n",
    "x,y,z=l\n",
    "print(x,y,z)"
   ]
  },
  {
   "cell_type": "markdown",
   "id": "f8052171",
   "metadata": {},
   "source": [
    "## Iterar listas"
   ]
  },
  {
   "cell_type": "markdown",
   "id": "fb209b48",
   "metadata": {},
   "source": [
    "Si necesitamos un índice acompañado con la lista, que tome valores desde 0 hasta n-1, se puede hacer de la siguiente manera."
   ]
  },
  {
   "cell_type": "code",
   "execution_count": 98,
   "id": "66d39cb5",
   "metadata": {},
   "outputs": [
    {
     "name": "stdout",
     "output_type": "stream",
     "text": [
      "5 9 10 "
     ]
    }
   ],
   "source": [
    "lista = [5, 9, 10]\n",
    "for l in lista:\n",
    "    print(l, end=\" \")"
   ]
  },
  {
   "cell_type": "markdown",
   "id": "44b92874",
   "metadata": {},
   "source": [
    "Si necesitamos un índice acompañado con la lista, que tome valores desde 0 hasta n-1, se puede hacer de la siguiente manera"
   ]
  },
  {
   "cell_type": "code",
   "execution_count": 109,
   "id": "e7c89668",
   "metadata": {},
   "outputs": [
    {
     "name": "stdout",
     "output_type": "stream",
     "text": [
      "Posición del elemento 0 , # de lista ingresado  5\n",
      "Posición del elemento 1 , # de lista ingresado  9\n",
      "Posición del elemento 2 , # de lista ingresado  10\n"
     ]
    }
   ],
   "source": [
    "lista = [5, 9, 10]\n",
    "for index, l in enumerate(lista):\n",
    "    print(f\"Posición del elemento\", index,\", # de lista ingresado \", l)"
   ]
  },
  {
   "cell_type": "markdown",
   "id": "25b1bea0",
   "metadata": {},
   "source": [
    "O si tenemos dos listas y las queremos iterar a la vez, también es posible hacerlo."
   ]
  },
  {
   "cell_type": "code",
   "execution_count": 110,
   "id": "c6efdeb1",
   "metadata": {},
   "outputs": [
    {
     "name": "stdout",
     "output_type": "stream",
     "text": [
      "5 Jazz\n",
      "9 Rock\n",
      "10 Djent\n"
     ]
    }
   ],
   "source": [
    "lista1 = [5, 9, 10]\n",
    "lista2 = [\"Jazz\", \"Rock\", \"Djent\"]\n",
    "for l1, l2 in zip(lista1, lista2):\n",
    "    print(l1, l2)"
   ]
  },
  {
   "cell_type": "markdown",
   "id": "e992c401",
   "metadata": {},
   "source": [
    "# Uso de métodos en listas\n"
   ]
  },
  {
   "cell_type": "markdown",
   "id": "1ff90db0",
   "metadata": {},
   "source": [
    "## range()"
   ]
  },
  {
   "cell_type": "markdown",
   "id": "b9a0dcc1",
   "metadata": {},
   "source": [
    "Para crear un objeto de tipo range, se pueden usar dos constructores :\n",
    "\n",
    "range(fin): Crea una secuencia numérica que va desde 0 hasta fin - 1.\n",
    "range(inicio, fin, [paso]): Crea una secuencia numérica que va desde inicio hasta fin - 1. Si además se indica el parámetro paso, la secuencia genera los números de paso en paso."
   ]
  },
  {
   "cell_type": "code",
   "execution_count": 111,
   "id": "b1ce630e",
   "metadata": {},
   "outputs": [
    {
     "data": {
      "text/plain": [
       "range(0, 20, 2)"
      ]
     },
     "execution_count": 111,
     "metadata": {},
     "output_type": "execute_result"
    }
   ],
   "source": [
    "range(0,20,2)"
   ]
  },
  {
   "cell_type": "code",
   "execution_count": 118,
   "id": "138167f4",
   "metadata": {},
   "outputs": [
    {
     "name": "stdout",
     "output_type": "stream",
     "text": [
      "range(0, 20, 2) \n",
      "Lista de numeros con una iteracion de 2 en 2[0, 2, 4, 6, 8, 10, 12, 14, 16, 18]\n"
     ]
    }
   ],
   "source": [
    "numeros=(range(0,20,2));\n",
    "lista_numeros=list(numeros);\n",
    "print(f\"\"\"{numeros} \\nLista de numeros con una iteracion de 2 en 2{lista_numeros}\"\"\")"
   ]
  },
  {
   "cell_type": "markdown",
   "id": "4ec82982",
   "metadata": {},
   "source": [
    "## append()\n",
    "append(<obj>)\n",
    "El método append() añade un elemento al final de la lista."
   ]
  },
  {
   "cell_type": "code",
   "execution_count": 2,
   "id": "eb2b17c6",
   "metadata": {},
   "outputs": [
    {
     "name": "stdout",
     "output_type": "stream",
     "text": [
      "[1, 2, 3]\n"
     ]
    }
   ],
   "source": [
    "lista=[1,2,3]\n",
    "print(lista)"
   ]
  },
  {
   "cell_type": "code",
   "execution_count": 4,
   "id": "c3a46c6b",
   "metadata": {},
   "outputs": [
    {
     "name": "stdout",
     "output_type": "stream",
     "text": [
      "[1, 2, 3, 4]\n"
     ]
    }
   ],
   "source": [
    "lista.append(4)\n",
    "print(lista)"
   ]
  },
  {
   "cell_type": "markdown",
   "id": "23364b9a",
   "metadata": {},
   "source": [
    "Como puedes ver, para llamar al método append() también debemos especificar un argumento, el elemento que deseamos agregar a la lista. Este elemento puede ser de cualquier tipo de dato:\n",
    "\n",
    "- Un entero (int).\n",
    "- Una cadena de caracteres (str).\n",
    "- Un número de coma flotante (float).\n",
    "- Valores Booleanos (bool).\n",
    "- Una lista (list).\n",
    "- Una tupla (tuple).\n",
    "- Un diccionario (dict).\n",
    "- Una instancia de una clase definida en el programa."
   ]
  },
  {
   "cell_type": "markdown",
   "id": "c8f77ca2",
   "metadata": {},
   "source": [
    "__Podemos aplicar el operador de la adición + para concatenar dos listas__"
   ]
  },
  {
   "cell_type": "code",
   "execution_count": 18,
   "id": "c0796bee",
   "metadata": {},
   "outputs": [
    {
     "data": {
      "text/plain": [
       "[11, 22, 33, 44, 45, 11, 22, 33, 44, 45, 'a', 'b', 'c']"
      ]
     },
     "execution_count": 18,
     "metadata": {},
     "output_type": "execute_result"
    }
   ],
   "source": [
    "lista_numeros_letras+[11,22,33,44,45,'a','b','c']"
   ]
  },
  {
   "cell_type": "code",
   "execution_count": 10,
   "id": "2145e479",
   "metadata": {},
   "outputs": [
    {
     "data": {
      "text/plain": [
       "[1, 2, 4, 5, 'a', 'b', 'c']"
      ]
     },
     "execution_count": 10,
     "metadata": {},
     "output_type": "execute_result"
    }
   ],
   "source": []
  },
  {
   "cell_type": "code",
   "execution_count": 13,
   "id": "d7827d16",
   "metadata": {},
   "outputs": [
    {
     "name": "stdout",
     "output_type": "stream",
     "text": [
      "[1, 2, 4, 5]\n"
     ]
    }
   ],
   "source": [
    "print(lista_numeros_lddetras)"
   ]
  },
  {
   "cell_type": "code",
   "execution_count": 21,
   "id": "5b5613f4",
   "metadata": {},
   "outputs": [
    {
     "name": "stdout",
     "output_type": "stream",
     "text": [
      "[11, 22, 33, 44, 45, 22, 33, 44, 55, 'a', 'b', 'c', 'd']\n"
     ]
    }
   ],
   "source": [
    "nu_lista=lista_numeros_letras[:6]+[22,33,44,55,'a','b','c','d']\n",
    "print(nu_lista)"
   ]
  },
  {
   "cell_type": "markdown",
   "id": "e3d296fb",
   "metadata": {},
   "source": [
    "Podemos guardar los valores que queremos agregar en otra lista y luego usar un ciclo for para llamar a .append() tantas veces como sea necesario:"
   ]
  },
  {
   "cell_type": "code",
   "execution_count": 35,
   "id": "b93e8152",
   "metadata": {},
   "outputs": [
    {
     "name": "stdout",
     "output_type": "stream",
     "text": [
      "Valores nuevos [5.6, 7.44, 6.75, 4.56, 2.3, 2.3, 9.6, 4.564, 7.56]\n"
     ]
    }
   ],
   "source": [
    "# Lista que queremos modificar.\n",
    "numeros = [5.6, 7.44, 6.75, 4.56, 2.3]\n",
    "# Valores que queremos agregar.\n",
    "valores_nuevos = [2.3, 9.6, 4.564, 7.56]\n",
    "\n",
    "# Ciclo for para agregar los valores a la lista.\n",
    "for num in valores_nuevos:\n",
    "\tnumeros.append(num)\n",
    "    \n",
    "print(\"Valores nuevos\",numeros)\n"
   ]
  },
  {
   "cell_type": "code",
   "execution_count": 12,
   "id": "6158bf8b",
   "metadata": {},
   "outputs": [
    {
     "name": "stdout",
     "output_type": "stream",
     "text": [
      "[[1, 2, 3], [4, 5, 6], [7, 8, 9]]\n"
     ]
    }
   ],
   "source": [
    "lista1=[1,2,3]\n",
    "lista2=[4,5,6]\n",
    "lista3=[7,8,9]\n",
    "lista4 =[lista1,lista2,lista3]\n",
    "print(lista4)"
   ]
  },
  {
   "cell_type": "code",
   "execution_count": 16,
   "id": "b49d1908",
   "metadata": {},
   "outputs": [
    {
     "data": {
      "text/plain": [
       "[[1, 2, 3], [4, 5, 6], [7, 8, 9]]"
      ]
     },
     "execution_count": 16,
     "metadata": {},
     "output_type": "execute_result"
    }
   ],
   "source": [
    "lista4[0:3]"
   ]
  },
  {
   "cell_type": "markdown",
   "id": "ecc51a2a",
   "metadata": {},
   "source": [
    "## extend()"
   ]
  },
  {
   "cell_type": "markdown",
   "id": "066b15d0",
   "metadata": {},
   "source": [
    "extend(<iterable>)\n",
    "El método extend() permite añadir una lista a la lista inicial."
   ]
  },
  {
   "cell_type": "code",
   "execution_count": 38,
   "id": "6d634bbf",
   "metadata": {},
   "outputs": [
    {
     "name": "stdout",
     "output_type": "stream",
     "text": [
      "[5.6, 7.44, 6.75, 4.56, 2.3, 2.3, 9.6, 4.564, 7.56]\n"
     ]
    }
   ],
   "source": [
    "numeros = [5.6, 7.44, 6.75, 4.56, 2.3]\n",
    "# Valores que queremos agregar.\n",
    "valores_nuevos = [2.3, 9.6, 4.564, 7.56]\n",
    "\n",
    "numeros.extend(valores_nuevos)\n",
    "print(numeros)"
   ]
  },
  {
   "cell_type": "markdown",
   "id": "5f6f2252",
   "metadata": {},
   "source": [
    "## insert()"
   ]
  },
  {
   "cell_type": "markdown",
   "id": "ca7e9f2e",
   "metadata": {},
   "source": [
    "insert(<index>, <obj>)\n",
    "El método insert() añade un elemento en una posición o índice determinado."
   ]
  },
  {
   "cell_type": "code",
   "execution_count": 39,
   "id": "86ec5f72",
   "metadata": {},
   "outputs": [
    {
     "name": "stdout",
     "output_type": "stream",
     "text": [
      "[24, 13, 56, 5, 78, 100]\n"
     ]
    }
   ],
   "source": [
    "int_list = [13, 56, 5, 78, 100]\n",
    "\n",
    "int_list.insert(0, 24)\n",
    "\n",
    "print(int_list)"
   ]
  },
  {
   "cell_type": "markdown",
   "id": "14b4f2ed",
   "metadata": {},
   "source": [
    "## len()"
   ]
  },
  {
   "cell_type": "markdown",
   "id": "de0c7ab3",
   "metadata": {},
   "source": [
    "Nos permite conocer el número total de elementos"
   ]
  },
  {
   "cell_type": "code",
   "execution_count": 40,
   "id": "1dc6650d",
   "metadata": {},
   "outputs": [
    {
     "data": {
      "text/plain": [
       "3"
      ]
     },
     "execution_count": 40,
     "metadata": {},
     "output_type": "execute_result"
    }
   ],
   "source": [
    "len([1,2,3])"
   ]
  },
  {
   "cell_type": "code",
   "execution_count": 41,
   "id": "611d2698",
   "metadata": {},
   "outputs": [
    {
     "data": {
      "text/plain": [
       "6"
      ]
     },
     "execution_count": 41,
     "metadata": {},
     "output_type": "execute_result"
    }
   ],
   "source": [
    "len(int_list)"
   ]
  },
  {
   "cell_type": "markdown",
   "id": "127f9670",
   "metadata": {},
   "source": [
    "## remove(obj)"
   ]
  },
  {
   "cell_type": "markdown",
   "id": "c5cb3154",
   "metadata": {},
   "source": [
    "El método remove() recibe como argumento un objeto y lo borra de la lista."
   ]
  },
  {
   "cell_type": "code",
   "execution_count": 42,
   "id": "557d63dd",
   "metadata": {},
   "outputs": [
    {
     "name": "stdout",
     "output_type": "stream",
     "text": [
      "[1, 2]\n"
     ]
    }
   ],
   "source": [
    "l = [1, 2, 3]\n",
    "l.remove(3)\n",
    "print(l)"
   ]
  },
  {
   "cell_type": "markdown",
   "id": "b5e2030b",
   "metadata": {},
   "source": [
    "## 3.7 pop(index=-1)"
   ]
  },
  {
   "cell_type": "code",
   "execution_count": 48,
   "id": "ae918e4e",
   "metadata": {},
   "outputs": [
    {
     "name": "stdout",
     "output_type": "stream",
     "text": [
      "[1, 2]\n"
     ]
    }
   ],
   "source": [
    "l = [1, 2, 3]\n",
    "l.pop() \n",
    "print(l)"
   ]
  },
  {
   "cell_type": "markdown",
   "id": "513b10a6",
   "metadata": {},
   "source": [
    "## 3.8 reverse()"
   ]
  },
  {
   "cell_type": "markdown",
   "id": "f3df0fc6",
   "metadata": {},
   "source": [
    "El método reverse() inverte el órden de la lista."
   ]
  },
  {
   "cell_type": "code",
   "execution_count": 51,
   "id": "4b7981fe",
   "metadata": {},
   "outputs": [
    {
     "name": "stdout",
     "output_type": "stream",
     "text": [
      "[3, 2, 1]\n"
     ]
    }
   ],
   "source": [
    "l = [1, 2, 3]\n",
    "l.reverse()\n",
    "print(l) "
   ]
  },
  {
   "cell_type": "markdown",
   "id": "c1101d06",
   "metadata": {},
   "source": [
    "## 3.9 sort()"
   ]
  },
  {
   "cell_type": "markdown",
   "id": "7eac0c7f",
   "metadata": {},
   "source": [
    "El método sort() ordena los elementos de menos a mayor por defecto."
   ]
  },
  {
   "cell_type": "code",
   "execution_count": 50,
   "id": "0073ced6",
   "metadata": {},
   "outputs": [
    {
     "name": "stdout",
     "output_type": "stream",
     "text": [
      "[3, 2, 1]\n"
     ]
    }
   ],
   "source": [
    "l = [1, 2, 3]\n",
    "l.reverse()\n",
    "print(l) "
   ]
  },
  {
   "cell_type": "markdown",
   "id": "7d5bf7eb",
   "metadata": {},
   "source": [
    "Si no pasas ningún argumento, por defecto:\n",
    "\n",
    "La lista será ordenada en orden ascendente.\n",
    "Los elementos de la lista serán comparados directamente."
   ]
  },
  {
   "cell_type": "markdown",
   "id": "32e67fab",
   "metadata": {},
   "source": [
    "__Y también permite ordenar de mayor a menor si se pasa como parámetro reverse=True.__"
   ]
  },
  {
   "cell_type": "code",
   "execution_count": 58,
   "id": "aa365c05",
   "metadata": {},
   "outputs": [
    {
     "name": "stdout",
     "output_type": "stream",
     "text": [
      "[3, 2, 1]\n"
     ]
    }
   ],
   "source": [
    "l = [3, 1, 2]\n",
    "l.sort(reverse=True)\n",
    "print(l)"
   ]
  },
  {
   "cell_type": "markdown",
   "id": "1c93a885",
   "metadata": {},
   "source": [
    "# Elementos "
   ]
  },
  {
   "cell_type": "markdown",
   "id": "53e2a76e",
   "metadata": {},
   "source": [
    "Podemos comprobar si algún valor existe dentro de una lista a través del término in"
   ]
  },
  {
   "cell_type": "code",
   "execution_count": 60,
   "id": "fb7e87a2",
   "metadata": {},
   "outputs": [
    {
     "data": {
      "text/plain": [
       "False"
      ]
     },
     "execution_count": 60,
     "metadata": {},
     "output_type": "execute_result"
    }
   ],
   "source": [
    "# numero in [elementos de la lista]\n",
    "5 in [1,2,3,4]"
   ]
  },
  {
   "cell_type": "markdown",
   "id": "3ad207de",
   "metadata": {},
   "source": [
    "Podemos actualizar varios elementos de una lista utilizando el slicing."
   ]
  },
  {
   "cell_type": "code",
   "execution_count": 74,
   "id": "b6038746",
   "metadata": {},
   "outputs": [
    {
     "name": "stdout",
     "output_type": "stream",
     "text": [
      "['Uno', 'Dos', 'Tres', 6, 'Cinco', 6, 'Cinco', 6, 'Cinco', 44, 45, 22, 33, 44, 55, 'a', 'b', 'c', 'd']\n"
     ]
    }
   ],
   "source": [
    "nu_lista[:3]=[\"Uno\",\"Dos\",\"Tres\",6,\"Cinco\"]\n",
    "print(nu_lista)"
   ]
  }
 ],
 "metadata": {
  "kernelspec": {
   "display_name": "Python 3 (ipykernel)",
   "language": "python",
   "name": "python3"
  },
  "language_info": {
   "codemirror_mode": {
    "name": "ipython",
    "version": 3
   },
   "file_extension": ".py",
   "mimetype": "text/x-python",
   "name": "python",
   "nbconvert_exporter": "python",
   "pygments_lexer": "ipython3",
   "version": "3.10.9"
  },
  "nbTranslate": {
   "displayLangs": [
    "*"
   ],
   "hotkey": "alt-t",
   "langInMainMenu": true,
   "sourceLang": "en",
   "targetLang": "fr",
   "useGoogleTranslate": true
  },
  "toc": {
   "base_numbering": 1,
   "nav_menu": {},
   "number_sections": true,
   "sideBar": true,
   "skip_h1_title": false,
   "title_cell": "Table of Contents",
   "title_sidebar": "Contents",
   "toc_cell": false,
   "toc_position": {},
   "toc_section_display": true,
   "toc_window_display": false
  },
  "varInspector": {
   "cols": {
    "lenName": 16,
    "lenType": 16,
    "lenVar": 40
   },
   "kernels_config": {
    "python": {
     "delete_cmd_postfix": "",
     "delete_cmd_prefix": "del ",
     "library": "var_list.py",
     "varRefreshCmd": "print(var_dic_list())"
    },
    "r": {
     "delete_cmd_postfix": ") ",
     "delete_cmd_prefix": "rm(",
     "library": "var_list.r",
     "varRefreshCmd": "cat(var_dic_list()) "
    }
   },
   "oldHeight": 122.85466599999998,
   "position": {
    "height": "144.188px",
    "left": "1010px",
    "right": "20px",
    "top": "121px",
    "width": "250px"
   },
   "types_to_exclude": [
    "module",
    "function",
    "builtin_function_or_method",
    "instance",
    "_Feature"
   ],
   "varInspector_section_display": "block",
   "window_display": false
  }
 },
 "nbformat": 4,
 "nbformat_minor": 5
}
