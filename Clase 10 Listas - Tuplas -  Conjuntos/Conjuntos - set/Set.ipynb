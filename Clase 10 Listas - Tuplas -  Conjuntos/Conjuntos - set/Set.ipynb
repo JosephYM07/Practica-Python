{
 "cells": [
  {
   "cell_type": "markdown",
   "id": "c280643d",
   "metadata": {},
   "source": [
    "#  3.4 Conjuntos - set()\n"
   ]
  },
  {
   "cell_type": "markdown",
   "id": "186e97f8",
   "metadata": {
    "lang": "fr"
   },
   "source": [
    "Un conjunto es una colección no ordenada de objetos únicos. Python s'avère être un type de données « par défaut » al igual que otras colecciones más convencionales como las listas, tuplas y diccionarios.\n",
    "\n",
    "Los conjuntos son ampliamente utilizados en lógica y matemática, y desde el lenguaje podemos sacar provecho de sus propiedades para crear código más eficiente y readible en menos tiempo."
   ]
  },
  {
   "cell_type": "markdown",
   "id": "6be1c7b1",
   "metadata": {},
   "source": [
    "__Se diferencia de las tuplas y listas en que__\n",
    "\n",
    "- Los elementos de un set son único, lo que significa que no puede haber elementos duplicados.\n",
    "- Los set son desordenados, lo que significa que no mantienen el orden de cuando son declarados.\n",
    "- Sus elementos deben ser inmutables."
   ]
  },
  {
   "cell_type": "markdown",
   "id": "76b0b6d8",
   "metadata": {},
   "source": [
    "Para crear un set en Python se puede hacer con set() y pasando como entrada cualquier tipo iterable, como puede ser una lista. Se puede ver como a pesar de pasar elementos duplicados como dos 8 y en un orden determinado, al imprimir el set no conserva ese orden y los duplicados se han eliminado."
   ]
  },
  {
   "cell_type": "code",
   "execution_count": 4,
   "id": "1b73c126",
   "metadata": {
    "scrolled": false
   },
   "outputs": [
    {
     "name": "stdout",
     "output_type": "stream",
     "text": [
      "Elementos del conjunto = {1, 4, 5, 6, 8}\n",
      "<class 'set'>\n"
     ]
    }
   ],
   "source": [
    "s = set([5, 4, 6, 8, 8, 1])\n",
    "print(\"Elementos del conjunto =\",s)       \n",
    "print(type(s)) "
   ]
  },
  {
   "cell_type": "code",
   "execution_count": null,
   "id": "9f363b6c",
   "metadata": {},
   "outputs": [],
   "source": []
  },
  {
   "cell_type": "markdown",
   "id": "9453c122",
   "metadata": {},
   "source": [
    "## Métodos \n"
   ]
  },
  {
   "cell_type": "markdown",
   "id": "f2484f0a",
   "metadata": {},
   "source": [
    "- __s.add(<elem>)__\n",
    "    \n",
    "El método add() permite añadir un elemento al set."
   ]
  },
  {
   "cell_type": "code",
   "execution_count": 5,
   "id": "9a13cf73",
   "metadata": {
    "scrolled": false
   },
   "outputs": [
    {
     "name": "stdout",
     "output_type": "stream",
     "text": [
      "{1, 2, 3}\n"
     ]
    }
   ],
   "source": [
    "l = set([1, 2])\n",
    "l.add(3)\n",
    "print(l)"
   ]
  },
  {
   "cell_type": "markdown",
   "id": "4e57a3ec",
   "metadata": {},
   "source": [
    "- __s.remove(<elem>)__\n",
    "\n",
    "El método remove() elimina el elemento que se pasa como parámetro. Si no se encuentra, se lanza la excepción KeyError."
   ]
  },
  {
   "cell_type": "code",
   "execution_count": 9,
   "id": "bfcec380",
   "metadata": {
    "scrolled": false
   },
   "outputs": [
    {
     "name": "stdout",
     "output_type": "stream",
     "text": [
      "{1}\n"
     ]
    }
   ],
   "source": [
    "k = set([1, 2])\n",
    "k.remove(2)\n",
    "print(k)"
   ]
  },
  {
   "cell_type": "markdown",
   "id": "255898d5",
   "metadata": {},
   "source": [
    "- __s.discard(<elem>)__\n",
    "\n",
    "El método discard() es muy parecido al remove(), borra el elemento que se pasa como parámetro, y si no se encuentra no hace nada."
   ]
  },
  {
   "cell_type": "code",
   "execution_count": null,
   "id": "604ccd5c",
   "metadata": {
    "scrolled": false
   },
   "outputs": [],
   "source": [
    "s = set([1, 2])\n",
    "s.discard(3)\n",
    "print(s)"
   ]
  },
  {
   "cell_type": "markdown",
   "id": "b8c4f529",
   "metadata": {},
   "source": [
    "- __s.pop()__\n",
    "\n",
    "El método pop() elimina un elemento aleatorio del set."
   ]
  },
  {
   "cell_type": "code",
   "execution_count": 11,
   "id": "db2c609a",
   "metadata": {
    "scrolled": false
   },
   "outputs": [
    {
     "name": "stdout",
     "output_type": "stream",
     "text": [
      "{2}\n"
     ]
    }
   ],
   "source": [
    "s = set([1, 2])\n",
    "s.pop()\n",
    "print(s)"
   ]
  },
  {
   "cell_type": "markdown",
   "id": "b73c34d6",
   "metadata": {},
   "source": [
    "- __s.clear()__\n",
    "\n",
    "El método clear() elimina todos los elementos de set."
   ]
  },
  {
   "cell_type": "code",
   "execution_count": 12,
   "id": "949b8d0d",
   "metadata": {
    "slideshow": {
     "slide_type": "-"
    }
   },
   "outputs": [
    {
     "name": "stdout",
     "output_type": "stream",
     "text": [
      "set()\n"
     ]
    }
   ],
   "source": [
    "s = set([1, 2])\n",
    "s.clear()\n",
    "print(s) "
   ]
  },
  {
   "cell_type": "markdown",
   "id": "39981c59",
   "metadata": {},
   "source": [
    "__Podemos utilizar los conjuntos para verificar pertenencia__"
   ]
  },
  {
   "cell_type": "code",
   "execution_count": 2,
   "id": "5043a4f7",
   "metadata": {},
   "outputs": [
    {
     "data": {
      "text/plain": [
       "False"
      ]
     },
     "execution_count": 2,
     "metadata": {},
     "output_type": "execute_result"
    }
   ],
   "source": [
    "grupo=[\"Luis\",\"Ana\",\"Pepe\"]\n",
    "\"Victor\"in grupo"
   ]
  },
  {
   "cell_type": "code",
   "execution_count": 3,
   "id": "d80a6135",
   "metadata": {
    "scrolled": true
   },
   "outputs": [
    {
     "data": {
      "text/plain": [
       "True"
      ]
     },
     "execution_count": 3,
     "metadata": {},
     "output_type": "execute_result"
    }
   ],
   "source": [
    "\"Alexander\" not in grupo"
   ]
  }
 ],
 "metadata": {
  "kernelspec": {
   "display_name": "Python 3 (ipykernel)",
   "language": "python",
   "name": "python3"
  },
  "language_info": {
   "codemirror_mode": {
    "name": "ipython",
    "version": 3
   },
   "file_extension": ".py",
   "mimetype": "text/x-python",
   "name": "python",
   "nbconvert_exporter": "python",
   "pygments_lexer": "ipython3",
   "version": "3.10.9"
  },
  "nbTranslate": {
   "displayLangs": [
    "*"
   ],
   "hotkey": "alt-t",
   "langInMainMenu": true,
   "sourceLang": "en",
   "targetLang": "fr",
   "useGoogleTranslate": true
  },
  "toc": {
   "base_numbering": 1,
   "nav_menu": {},
   "number_sections": true,
   "sideBar": true,
   "skip_h1_title": false,
   "title_cell": "Table of Contents",
   "title_sidebar": "Contents",
   "toc_cell": false,
   "toc_position": {},
   "toc_section_display": true,
   "toc_window_display": false
  },
  "varInspector": {
   "cols": {
    "lenName": 16,
    "lenType": 16,
    "lenVar": 40
   },
   "kernels_config": {
    "python": {
     "delete_cmd_postfix": "",
     "delete_cmd_prefix": "del ",
     "library": "var_list.py",
     "varRefreshCmd": "print(var_dic_list())"
    },
    "r": {
     "delete_cmd_postfix": ") ",
     "delete_cmd_prefix": "rm(",
     "library": "var_list.r",
     "varRefreshCmd": "cat(var_dic_list()) "
    }
   },
   "types_to_exclude": [
    "module",
    "function",
    "builtin_function_or_method",
    "instance",
    "_Feature"
   ],
   "window_display": false
  }
 },
 "nbformat": 4,
 "nbformat_minor": 5
}
