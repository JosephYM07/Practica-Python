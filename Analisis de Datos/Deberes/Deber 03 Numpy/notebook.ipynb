{
 "cells": [
  {
   "attachments": {},
   "cell_type": "markdown",
   "metadata": {},
   "source": [
    "# Deber Numpy\n",
    "\n",
    "Dentro del grupo asignado (2 o 3 estudiantes) realizar 50  ejercicios del archivo: Numpy - 100 Exercises.pdf\n",
    "\n",
    "Nombres:\n",
    "- \n",
    "- \n",
    "- Yépez Marín"
   ]
  }
 ],
 "metadata": {
  "language_info": {
   "name": "python"
  },
  "orig_nbformat": 4
 },
 "nbformat": 4,
 "nbformat_minor": 2
}
