{
 "cells": [
  {
   "attachments": {},
   "cell_type": "markdown",
   "metadata": {},
   "source": [
    "# MONGOLDB"
   ]
  },
  {
   "cell_type": "code",
   "execution_count": 1,
   "metadata": {},
   "outputs": [
    {
     "name": "stdout",
     "output_type": "stream",
     "text": [
      "Collecting pymongoNote: you may need to restart the kernel to use updated packages.\n",
      "\n",
      "  Downloading pymongo-4.4.0-cp310-cp310-win_amd64.whl (453 kB)\n",
      "                                              0.0/453.6 kB ? eta -:--:--\n",
      "                                              10.2/453.6 kB ? eta -:--:--\n",
      "                                              10.2/453.6 kB ? eta -:--:--\n",
      "     ---                                   41.0/453.6 kB 281.8 kB/s eta 0:00:02\n",
      "     -------                               92.2/453.6 kB 525.1 kB/s eta 0:00:01\n",
      "     ------------                         153.6/453.6 kB 706.2 kB/s eta 0:00:01\n",
      "     -----------------                    225.3/453.6 kB 919.0 kB/s eta 0:00:01\n",
      "     ----------------------------------     409.6/453.6 kB 1.3 MB/s eta 0:00:01\n",
      "     -------------------------------------- 453.6/453.6 kB 1.4 MB/s eta 0:00:00\n",
      "Collecting dnspython<3.0.0,>=1.16.0 (from pymongo)\n",
      "  Downloading dnspython-2.3.0-py3-none-any.whl (283 kB)\n",
      "                                              0.0/283.7 kB ? eta -:--:--\n",
      "     ------------------------------------- 283.7/283.7 kB 18.2 MB/s eta 0:00:00\n",
      "Installing collected packages: dnspython, pymongo\n",
      "Successfully installed dnspython-2.3.0 pymongo-4.4.0\n"
     ]
    }
   ],
   "source": [
    "pip install pymongo"
   ]
  },
  {
   "cell_type": "code",
   "execution_count": 2,
   "metadata": {},
   "outputs": [],
   "source": [
    "from pymongo import MongoClient\n",
    "client = MongoClient('localhost', 27017)\n",
    "mydatabase = client['local']"
   ]
  },
  {
   "cell_type": "code",
   "execution_count": 6,
   "metadata": {},
   "outputs": [
    {
     "name": "stdout",
     "output_type": "stream",
     "text": [
      "<pymongo.cursor.Cursor object at 0x00000245DD48A620>\n"
     ]
    }
   ],
   "source": [
    "print(mydatabase.list_collection.find({\"score\":78}))"
   ]
  },
  {
   "cell_type": "code",
   "execution_count": 8,
   "metadata": {},
   "outputs": [],
   "source": [
    "myquery = {\"score\": 78}"
   ]
  },
  {
   "cell_type": "code",
   "execution_count": null,
   "metadata": {},
   "outputs": [],
   "source": []
  }
 ],
 "metadata": {
  "kernelspec": {
   "display_name": "base",
   "language": "python",
   "name": "python3"
  },
  "language_info": {
   "codemirror_mode": {
    "name": "ipython",
    "version": 3
   },
   "file_extension": ".py",
   "mimetype": "text/x-python",
   "name": "python",
   "nbconvert_exporter": "python",
   "pygments_lexer": "ipython3",
   "version": "3.10.9"
  },
  "orig_nbformat": 4
 },
 "nbformat": 4,
 "nbformat_minor": 2
}
