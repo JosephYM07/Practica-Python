{
 "cells": [
  {
   "attachments": {},
   "cell_type": "markdown",
   "metadata": {},
   "source": [
    "# Semana 3"
   ]
  },
  {
   "cell_type": "code",
   "execution_count": 2,
   "metadata": {},
   "outputs": [
    {
     "name": "stdout",
     "output_type": "stream",
     "text": [
      "[1 2 3]\n",
      "[[1 2 3]\n",
      " [4 5 6]]\n"
     ]
    }
   ],
   "source": [
    "import numpy as np\n",
    "a=np.array([1,2,3])\n",
    "print(a)\n",
    "b=np.array([(1,2,3),(4,5,6)])\n",
    "print(b)"
   ]
  },
  {
   "cell_type": "code",
   "execution_count": 15,
   "metadata": {},
   "outputs": [
    {
     "name": "stdout",
     "output_type": "stream",
     "text": [
      "[[[ 1  2  3]\n",
      "  [ 4  5  6]]\n",
      "\n",
      " [[ 7  8  9]\n",
      "  [10 11 12]]]\n"
     ]
    }
   ],
   "source": [
    "#Arreglo 3 dimenciones\n",
    "c=np.array([[(1,2,3),(4,5,6)],[(7,8,9),(10,11,12)]])\n",
    "print(c)"
   ]
  },
  {
   "cell_type": "code",
   "execution_count": 16,
   "metadata": {},
   "outputs": [
    {
     "name": "stdout",
     "output_type": "stream",
     "text": [
      "<memory at 0x000001FB3B8DE190>\n"
     ]
    },
    {
     "data": {
      "text/plain": [
       "numpy.ndarray"
      ]
     },
     "execution_count": 16,
     "metadata": {},
     "output_type": "execute_result"
    }
   ],
   "source": [
    "x=np.array([(1,2,3),(4,5,6)])\n",
    "print(x.data)\n",
    "type(x)"
   ]
  },
  {
   "attachments": {},
   "cell_type": "markdown",
   "metadata": {},
   "source": [
    "# Numpy en lugar de estructuras"
   ]
  },
  {
   "cell_type": "code",
   "execution_count": 12,
   "metadata": {},
   "outputs": [
    {
     "name": "stdout",
     "output_type": "stream",
     "text": [
      "28000\n",
      "4000\n"
     ]
    }
   ],
   "source": [
    "import sys\n",
    "S=range(1000)\n",
    "print(sys.getsizeof(5)*len(S))\n",
    "\n",
    "D=np.arange(1000)\n",
    "print(D.size*D.itemsize)"
   ]
  },
  {
   "cell_type": "code",
   "execution_count": 20,
   "metadata": {},
   "outputs": [
    {
     "name": "stdout",
     "output_type": "stream",
     "text": [
      "249.55224990844727\n",
      "26.003122329711914\n"
     ]
    }
   ],
   "source": [
    "import time\n",
    "SIZE=1000000\n",
    "L1=range(SIZE)\n",
    "L2=range(SIZE)\n",
    "A1=np.arange(SIZE)\n",
    "A2=np.arange(SIZE)\n",
    "\n",
    "start=time.time()\n",
    "result=[x+y for x,y in zip(L1,L2)]\n",
    "print((time.time()-start)*1000)\n",
    "\n",
    "start=time.time()\n",
    "result=A1+A2\n",
    "print((time.time()-start)*1000)"
   ]
  },
  {
   "attachments": {},
   "cell_type": "markdown",
   "metadata": {},
   "source": [
    "## Ejercicios"
   ]
  },
  {
   "cell_type": "code",
   "execution_count": 23,
   "metadata": {},
   "outputs": [
    {
     "data": {
      "text/plain": [
       "0.00552"
      ]
     },
     "execution_count": 23,
     "metadata": {},
     "output_type": "execute_result"
    }
   ],
   "source": [
    "import time \n",
    "import numpy as np\n",
    "\n",
    "list1=[i for i in range(10000)]\n",
    "list2=[i for i in range(10000)]\n",
    "inicio=time.time()\n",
    "dot=0\n",
    "for i,j in zip(list1,list2):\n",
    "    dot+=i*j\n",
    "round(time.time()-inicio,5)"
   ]
  },
  {
   "attachments": {},
   "cell_type": "markdown",
   "metadata": {},
   "source": [
    "# Con un byte"
   ]
  },
  {
   "cell_type": "code",
   "execution_count": 24,
   "metadata": {},
   "outputs": [
    {
     "data": {
      "text/plain": [
       "0.0382"
      ]
     },
     "execution_count": 24,
     "metadata": {},
     "output_type": "execute_result"
    }
   ],
   "source": [
    "import time\n",
    "import numpy as np\n",
    "\n",
    "arr1=np.array([i for i in range(10000)])\n",
    "arr2=np.array([i for i in range(10000)])\n",
    "inicio=time.time()\n",
    "arr=np.dot(arr1,arr2)\n",
    "round(time.time()-inicio,5)"
   ]
  },
  {
   "cell_type": "code",
   "execution_count": 25,
   "metadata": {},
   "outputs": [
    {
     "ename": "NameError",
     "evalue": "name 'concatenate' is not defined",
     "output_type": "error",
     "traceback": [
      "\u001b[1;31m---------------------------------------------------------------------------\u001b[0m",
      "\u001b[1;31mNameError\u001b[0m                                 Traceback (most recent call last)",
      "Cell \u001b[1;32mIn[25], line 7\u001b[0m\n\u001b[0;32m      5\u001b[0m arr2\u001b[39m=\u001b[39mnp\u001b[39m.\u001b[39marray([i \u001b[39mfor\u001b[39;00m i \u001b[39min\u001b[39;00m \u001b[39mrange\u001b[39m(\u001b[39m10000\u001b[39m)])\n\u001b[0;32m      6\u001b[0m inicio\u001b[39m=\u001b[39mtime\u001b[39m.\u001b[39mtime()\n\u001b[1;32m----> 7\u001b[0m arr\u001b[39m=\u001b[39mconcatenate((arr1,arr2),axis\u001b[39m=\u001b[39m\u001b[39m0\u001b[39m)\n\u001b[0;32m      8\u001b[0m \u001b[39mround\u001b[39m(time\u001b[39m.\u001b[39mtime()\u001b[39m-\u001b[39minicio,\u001b[39m5\u001b[39m)\n",
      "\u001b[1;31mNameError\u001b[0m: name 'concatenate' is not defined"
     ]
    }
   ],
   "source": [
    "import time\n",
    "import numpy as np\n",
    "\n",
    "arr1=np.array([i for i in range(10000)])\n",
    "arr2=np.array([i for i in range(10000)])\n",
    "inicio=time.time()\n",
    "arr=concatenate((arr1,arr2),axis=0)\n",
    "round(time.time()-inicio,5)"
   ]
  },
  {
   "attachments": {},
   "cell_type": "markdown",
   "metadata": {},
   "source": [
    "# 2"
   ]
  },
  {
   "cell_type": "code",
   "execution_count": 26,
   "metadata": {},
   "outputs": [
    {
     "name": "stdout",
     "output_type": "stream",
     "text": [
      "[25.  12.  15.  66.  12.5]\n"
     ]
    }
   ],
   "source": [
    "lista=[25,12,15,66,12.5]\n",
    "vector=np.array(lista)\n",
    "print(vector)"
   ]
  },
  {
   "cell_type": "code",
   "execution_count": 27,
   "metadata": {},
   "outputs": [
    {
     "name": "stdout",
     "output_type": "stream",
     "text": [
      "66.0\n",
      "[12. 15. 66.]\n",
      "[12.  15.  66.  12.5]\n",
      "[25. 12. 15. 66.]\n",
      "[25.  12.  15.  66.  12.5]\n"
     ]
    }
   ],
   "source": [
    "print(vector[3])\n",
    "print(vector[1:4])\n",
    "print(vector[1:])\n",
    "print(vector[:4])\n",
    "print(vector[:])"
   ]
  },
  {
   "cell_type": "code",
   "execution_count": 28,
   "metadata": {},
   "outputs": [
    {
     "name": "stdout",
     "output_type": "stream",
     "text": [
      "- vector original\n",
      "[25.  12.  15.  66.  12.5]\n"
     ]
    }
   ],
   "source": [
    "print(\"- vector original\")\n",
    "print(vector)"
   ]
  },
  {
   "cell_type": "code",
   "execution_count": 29,
   "metadata": {},
   "outputs": [
    {
     "name": "stdout",
     "output_type": "stream",
     "text": [
      "- Sumarle 1 a cada elemento del vector\n",
      "[26.  13.  16.  67.  13.5]\n",
      "- Multiplicar por 2 a cada elemento del vector\n",
      "[ 50.  24.  30. 132.  25.]\n",
      "- multiplicar por 5 a cada elemento del vector\n",
      "[125.   60.   75.  330.   62.5]\n"
     ]
    }
   ],
   "source": [
    "print(\"- Sumarle 1 a cada elemento del vector\")\n",
    "print(vector+1)\n",
    "print(\"- Multiplicar por 2 a cada elemento del vector\")\n",
    "print(vector*2)\n",
    "print(\"- multiplicar por 5 a cada elemento del vector\")\n",
    "print(vector*5)"
   ]
  },
  {
   "cell_type": "code",
   "execution_count": 30,
   "metadata": {},
   "outputs": [
    {
     "name": "stdout",
     "output_type": "stream",
     "text": [
      "-suma de todos los vectores\n",
      "130.5\n"
     ]
    }
   ],
   "source": [
    "print(\"-suma de todos los vectores\")\n",
    "print(np.sum(vector)) #suma de todos los elementos del vector"
   ]
  },
  {
   "cell_type": "code",
   "execution_count": 31,
   "metadata": {},
   "outputs": [
    {
     "name": "stdout",
     "output_type": "stream",
     "text": [
      "- matriz creada con np.zeros\n",
      "[[0. 0. 0. 0.]\n",
      " [0. 0. 0. 0.]\n",
      " [0. 0. 0. 0.]]\n"
     ]
    }
   ],
   "source": [
    "print(\"- matriz creada con np.zeros\")\n",
    "print(np.zeros((3,4))) #matriz de 3 filas y 4 columnas"
   ]
  },
  {
   "cell_type": "code",
   "execution_count": 32,
   "metadata": {},
   "outputs": [
    {
     "name": "stdout",
     "output_type": "stream",
     "text": [
      "- matriz creada con np.ones\n",
      "[[1. 1. 1. 1.]\n",
      " [1. 1. 1. 1.]\n",
      " [1. 1. 1. 1.]]\n"
     ]
    }
   ],
   "source": [
    "print(\"- matriz creada con np.ones\")\n",
    "print(np.ones((3,4))) #matriz de 3 filas y 4 columnas"
   ]
  },
  {
   "cell_type": "code",
   "execution_count": 34,
   "metadata": {},
   "outputs": [
    {
     "name": "stdout",
     "output_type": "stream",
     "text": [
      "[[1. 1. 1. 1.]\n",
      " [1. 1. 1. 1.]\n",
      " [1. 1. 1. 1.]]\n"
     ]
    }
   ],
   "source": [
    "matriz_unos=np.ones((3,4))\n",
    "print(matriz_unos)"
   ]
  },
  {
   "attachments": {},
   "cell_type": "markdown",
   "metadata": {},
   "source": [
    "## Ejercicios"
   ]
  },
  {
   "cell_type": "code",
   "execution_count": 50,
   "metadata": {},
   "outputs": [
    {
     "name": "stdout",
     "output_type": "stream",
     "text": [
      "[[ 14  12  87  72  32]\n",
      " [  6  11  87  26  25]\n",
      " [ 43 103   8  90   5]\n",
      " [ 35  99  27  19  19]\n",
      " [ 81  69   5  13  82]]\n"
     ]
    }
   ],
   "source": [
    "# Crear una matriz de 4x4 con valores de 0.5, utilizando import random random.radint(1,101)\n",
    "matriz_random=np.random.randint(1,106,size=(5,5))\n",
    "print(matriz_random)"
   ]
  },
  {
   "cell_type": "code",
   "execution_count": 61,
   "metadata": {},
   "outputs": [
    {
     "name": "stdout",
     "output_type": "stream",
     "text": [
      "[28 26 15 25 15 39 37 41 10 19]\n",
      "=========================================================================\n",
      "[19 10 41 37 39 15 25 15 26 28]\n"
     ]
    }
   ],
   "source": [
    "import numpy as np\n",
    "\n",
    "vector_rango = np.random.randint(10, 50, size=10)\n",
    "print(vector_rango)\n",
    "# Invertir el vector\n",
    "print(\"=========================================================================\")\n",
    "print(vector_rango[::-1])\n"
   ]
  },
  {
   "cell_type": "code",
   "execution_count": 72,
   "metadata": {},
   "outputs": [],
   "source": [
    "# Tomar el tiempo d ela multiplicacion de las siguientes dimenciones:10x10, 100x100, 1000x1000 . Guardar los tiempos en un archivo de texto\n",
    "import time\n",
    "import numpy as np\n",
    "\n",
    "archivo_tiempo = open(\"tiempos.txt\", \"w\")\n",
    "dimensiones = [10, 100, 1000]\n",
    "for dim in dimensiones:\n",
    "    matriz1=np.random.randint(1,100,size=(dim,dim))\n",
    "    matriz2=np.random.randint(1,100,size=(dim,dim))\n",
    "      inicio = time.time()\n",
    "    matriz = np.dot(matriz1, matriz2)\n",
    "    tiempo = round(time.time() - inicio, 5)\n",
    "\n",
    "    archivo_tiempo.write(f\"Dimensiones: {dim}x{dim}, Tiempo: {tiempo} segundos\\n\")\n",
    "\n",
    "# Cerrar el archivo de texto\n",
    "archivo_tiempo.close()\n"
   ]
  },
  {
   "cell_type": "code",
   "execution_count": 73,
   "metadata": {},
   "outputs": [],
   "source": [
    "import numpy as np\n",
    "import time\n",
    "\n",
    "archivo_tiempo = open(\"tiempos2.txt\", \"w\")\n",
    "archivo_tiempo.write(\"# Tomar el tiempo de la multiplicacion de las siguientes dimensiones: 10x10, 100x100, 1000x1000\\n\\n\")\n",
    "\n",
    "dimensiones = [10, 100, 1000]\n",
    "\n",
    "for dim in dimensiones:\n",
    "    matriz1 = np.random.randint(1, 100, size=(dim, dim))\n",
    "    matriz2 = np.random.randint(1, 100, size=(dim, dim))\n",
    "\n",
    "    inicio = time.time()\n",
    "    matriz = np.dot(matriz1, matriz2)\n",
    "    tiempo = round(time.time() - inicio, 5)\n",
    "\n",
    "    archivo_tiempo.write(f\"Dimensiones: {dim}x{dim}, Tiempo: {tiempo} segundos\\n\")\n",
    "\n",
    "archivo_tiempo.close()\n"
   ]
  }
 ],
 "metadata": {
  "kernelspec": {
   "display_name": "base",
   "language": "python",
   "name": "python3"
  },
  "language_info": {
   "codemirror_mode": {
    "name": "ipython",
    "version": 3
   },
   "file_extension": ".py",
   "mimetype": "text/x-python",
   "name": "python",
   "nbconvert_exporter": "python",
   "pygments_lexer": "ipython3",
   "version": "3.10.9"
  },
  "orig_nbformat": 4
 },
 "nbformat": 4,
 "nbformat_minor": 2
}
